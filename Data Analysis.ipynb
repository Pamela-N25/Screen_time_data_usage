{
 "cells": [
  {
   "cell_type": "markdown",
   "id": "8f507460",
   "metadata": {},
   "source": [
    "# SCREEN TIME AND DATA USAGE (IOS/ANDROID)"
   ]
  },
  {
   "cell_type": "markdown",
   "id": "60a2877a",
   "metadata": {},
   "source": [
    "<img src=\"pradamas-gifarry-889Qh5HJj4I-unsplash-scaled.jpg\" alt=\"alt text\" width=\"500\" height=\"500\">\n"
   ]
  },
  {
   "cell_type": "markdown",
   "id": "8b1d1b8d",
   "metadata": {},
   "source": [
    "## About the dataset:\n",
    "This dataset simulates anonymized mobile screen time and app usage data collected from Android/iOS users over a 3-month period (Jan–April 2024). It captures daily usage trends across various app categories including:\n",
    "\n",
    "* Productivity: Google Docs, Notion, Slack\n",
    "\n",
    "* Entertainment: YouTube, Netflix, TikTok\n",
    "\n",
    "* Social Media: Instagram, WhatsApp, Facebook\n",
    "\n",
    "* Utilities: Chrome, Gmail, Maps\n",
    "\n",
    "For YouTube, additional engagement statistics such as views, likes, and comments are included to analyze video popularity and content consumption behavior.\n"
   ]
  },
  {
   "cell_type": "markdown",
   "id": "06c21353",
   "metadata": {},
   "source": [
    "# Data Analysis"
   ]
  },
  {
   "cell_type": "code",
   "execution_count": 1,
   "id": "3c9e3e1c",
   "metadata": {},
   "outputs": [
    {
     "name": "stdout",
     "output_type": "stream",
     "text": [
      "done\n"
     ]
    }
   ],
   "source": [
    "import pandas as pd\n",
    "import seaborn as sns\n",
    "import matplotlib.pyplot as plt\n",
    "print(\"done\")"
   ]
  },
  {
   "cell_type": "code",
   "execution_count": 2,
   "id": "a05d0381",
   "metadata": {},
   "outputs": [
    {
     "data": {
      "text/html": [
       "<div>\n",
       "<style scoped>\n",
       "    .dataframe tbody tr th:only-of-type {\n",
       "        vertical-align: middle;\n",
       "    }\n",
       "\n",
       "    .dataframe tbody tr th {\n",
       "        vertical-align: top;\n",
       "    }\n",
       "\n",
       "    .dataframe thead th {\n",
       "        text-align: right;\n",
       "    }\n",
       "</style>\n",
       "<table border=\"1\" class=\"dataframe\">\n",
       "  <thead>\n",
       "    <tr style=\"text-align: right;\">\n",
       "      <th></th>\n",
       "      <th>user_id</th>\n",
       "      <th>date</th>\n",
       "      <th>app_name</th>\n",
       "      <th>category</th>\n",
       "      <th>screen_time_min</th>\n",
       "      <th>launches</th>\n",
       "      <th>interactions</th>\n",
       "      <th>is_productive</th>\n",
       "      <th>youtube_views</th>\n",
       "      <th>youtube_likes</th>\n",
       "      <th>...</th>\n",
       "      <th>extra_col_14</th>\n",
       "      <th>extra_col_15</th>\n",
       "      <th>extra_col_16</th>\n",
       "      <th>extra_col_17</th>\n",
       "      <th>extra_col_18</th>\n",
       "      <th>extra_col_19</th>\n",
       "      <th>extra_col_20</th>\n",
       "      <th>extra_col_21</th>\n",
       "      <th>extra_col_22</th>\n",
       "      <th>extra_col_23</th>\n",
       "    </tr>\n",
       "  </thead>\n",
       "  <tbody>\n",
       "    <tr>\n",
       "      <th>0</th>\n",
       "      <td>1051</td>\n",
       "      <td>2024-01-01 00:00:00.000000000</td>\n",
       "      <td>Camera</td>\n",
       "      <td>Utilities</td>\n",
       "      <td>24.53</td>\n",
       "      <td>2</td>\n",
       "      <td>7</td>\n",
       "      <td>False</td>\n",
       "      <td>NaN</td>\n",
       "      <td>NaN</td>\n",
       "      <td>...</td>\n",
       "      <td>33.43</td>\n",
       "      <td>49.03</td>\n",
       "      <td>64.74</td>\n",
       "      <td>49.49</td>\n",
       "      <td>47.64</td>\n",
       "      <td>38.34</td>\n",
       "      <td>39.56</td>\n",
       "      <td>49.14</td>\n",
       "      <td>62.18</td>\n",
       "      <td>55.91</td>\n",
       "    </tr>\n",
       "    <tr>\n",
       "      <th>1</th>\n",
       "      <td>1088</td>\n",
       "      <td>2024-01-01 00:43:41.673891297</td>\n",
       "      <td>Chrome</td>\n",
       "      <td>Utilities</td>\n",
       "      <td>19.78</td>\n",
       "      <td>3</td>\n",
       "      <td>2</td>\n",
       "      <td>False</td>\n",
       "      <td>NaN</td>\n",
       "      <td>NaN</td>\n",
       "      <td>...</td>\n",
       "      <td>44.06</td>\n",
       "      <td>49.40</td>\n",
       "      <td>66.63</td>\n",
       "      <td>62.10</td>\n",
       "      <td>47.64</td>\n",
       "      <td>51.88</td>\n",
       "      <td>42.35</td>\n",
       "      <td>55.86</td>\n",
       "      <td>45.96</td>\n",
       "      <td>46.69</td>\n",
       "    </tr>\n",
       "    <tr>\n",
       "      <th>2</th>\n",
       "      <td>1052</td>\n",
       "      <td>2024-01-01 01:27:23.347782594</td>\n",
       "      <td>Spotify</td>\n",
       "      <td>Entertainment</td>\n",
       "      <td>32.03</td>\n",
       "      <td>1</td>\n",
       "      <td>6</td>\n",
       "      <td>False</td>\n",
       "      <td>NaN</td>\n",
       "      <td>NaN</td>\n",
       "      <td>...</td>\n",
       "      <td>55.18</td>\n",
       "      <td>41.87</td>\n",
       "      <td>54.84</td>\n",
       "      <td>65.59</td>\n",
       "      <td>61.28</td>\n",
       "      <td>49.51</td>\n",
       "      <td>41.11</td>\n",
       "      <td>55.53</td>\n",
       "      <td>44.13</td>\n",
       "      <td>71.01</td>\n",
       "    </tr>\n",
       "    <tr>\n",
       "      <th>3</th>\n",
       "      <td>1028</td>\n",
       "      <td>2024-01-01 02:11:05.021673891</td>\n",
       "      <td>Google Maps</td>\n",
       "      <td>Utilities</td>\n",
       "      <td>19.10</td>\n",
       "      <td>2</td>\n",
       "      <td>5</td>\n",
       "      <td>False</td>\n",
       "      <td>NaN</td>\n",
       "      <td>NaN</td>\n",
       "      <td>...</td>\n",
       "      <td>59.39</td>\n",
       "      <td>47.87</td>\n",
       "      <td>54.68</td>\n",
       "      <td>56.14</td>\n",
       "      <td>63.98</td>\n",
       "      <td>46.75</td>\n",
       "      <td>46.98</td>\n",
       "      <td>40.15</td>\n",
       "      <td>48.11</td>\n",
       "      <td>50.09</td>\n",
       "    </tr>\n",
       "    <tr>\n",
       "      <th>4</th>\n",
       "      <td>1034</td>\n",
       "      <td>2024-01-01 02:54:46.695565188</td>\n",
       "      <td>Instagram</td>\n",
       "      <td>Social</td>\n",
       "      <td>25.19</td>\n",
       "      <td>1</td>\n",
       "      <td>5</td>\n",
       "      <td>False</td>\n",
       "      <td>NaN</td>\n",
       "      <td>NaN</td>\n",
       "      <td>...</td>\n",
       "      <td>51.58</td>\n",
       "      <td>60.38</td>\n",
       "      <td>51.23</td>\n",
       "      <td>44.38</td>\n",
       "      <td>52.71</td>\n",
       "      <td>58.19</td>\n",
       "      <td>37.47</td>\n",
       "      <td>55.64</td>\n",
       "      <td>51.60</td>\n",
       "      <td>37.37</td>\n",
       "    </tr>\n",
       "    <tr>\n",
       "      <th>...</th>\n",
       "      <td>...</td>\n",
       "      <td>...</td>\n",
       "      <td>...</td>\n",
       "      <td>...</td>\n",
       "      <td>...</td>\n",
       "      <td>...</td>\n",
       "      <td>...</td>\n",
       "      <td>...</td>\n",
       "      <td>...</td>\n",
       "      <td>...</td>\n",
       "      <td>...</td>\n",
       "      <td>...</td>\n",
       "      <td>...</td>\n",
       "      <td>...</td>\n",
       "      <td>...</td>\n",
       "      <td>...</td>\n",
       "      <td>...</td>\n",
       "      <td>...</td>\n",
       "      <td>...</td>\n",
       "      <td>...</td>\n",
       "      <td>...</td>\n",
       "    </tr>\n",
       "    <tr>\n",
       "      <th>2995</th>\n",
       "      <td>1086</td>\n",
       "      <td>2024-03-31 21:05:13.304434812</td>\n",
       "      <td>Camera</td>\n",
       "      <td>Utilities</td>\n",
       "      <td>9.91</td>\n",
       "      <td>2</td>\n",
       "      <td>3</td>\n",
       "      <td>False</td>\n",
       "      <td>NaN</td>\n",
       "      <td>NaN</td>\n",
       "      <td>...</td>\n",
       "      <td>60.29</td>\n",
       "      <td>63.28</td>\n",
       "      <td>36.44</td>\n",
       "      <td>45.08</td>\n",
       "      <td>39.41</td>\n",
       "      <td>35.40</td>\n",
       "      <td>53.36</td>\n",
       "      <td>50.18</td>\n",
       "      <td>57.08</td>\n",
       "      <td>62.56</td>\n",
       "    </tr>\n",
       "    <tr>\n",
       "      <th>2996</th>\n",
       "      <td>1068</td>\n",
       "      <td>2024-03-31 21:48:54.978326109</td>\n",
       "      <td>Netflix</td>\n",
       "      <td>Entertainment</td>\n",
       "      <td>3.40</td>\n",
       "      <td>4</td>\n",
       "      <td>2</td>\n",
       "      <td>False</td>\n",
       "      <td>NaN</td>\n",
       "      <td>NaN</td>\n",
       "      <td>...</td>\n",
       "      <td>47.08</td>\n",
       "      <td>37.49</td>\n",
       "      <td>47.07</td>\n",
       "      <td>47.62</td>\n",
       "      <td>84.89</td>\n",
       "      <td>39.67</td>\n",
       "      <td>49.44</td>\n",
       "      <td>27.34</td>\n",
       "      <td>35.56</td>\n",
       "      <td>64.81</td>\n",
       "    </tr>\n",
       "    <tr>\n",
       "      <th>2997</th>\n",
       "      <td>1081</td>\n",
       "      <td>2024-03-31 22:32:36.652217406</td>\n",
       "      <td>Microsoft Teams</td>\n",
       "      <td>Productivity</td>\n",
       "      <td>17.18</td>\n",
       "      <td>2</td>\n",
       "      <td>6</td>\n",
       "      <td>True</td>\n",
       "      <td>NaN</td>\n",
       "      <td>NaN</td>\n",
       "      <td>...</td>\n",
       "      <td>44.27</td>\n",
       "      <td>57.20</td>\n",
       "      <td>52.23</td>\n",
       "      <td>55.06</td>\n",
       "      <td>59.39</td>\n",
       "      <td>56.39</td>\n",
       "      <td>36.01</td>\n",
       "      <td>59.60</td>\n",
       "      <td>56.91</td>\n",
       "      <td>49.69</td>\n",
       "    </tr>\n",
       "    <tr>\n",
       "      <th>2998</th>\n",
       "      <td>1038</td>\n",
       "      <td>2024-03-31 23:16:18.326108703</td>\n",
       "      <td>WhatsApp</td>\n",
       "      <td>Social</td>\n",
       "      <td>149.72</td>\n",
       "      <td>3</td>\n",
       "      <td>5</td>\n",
       "      <td>False</td>\n",
       "      <td>NaN</td>\n",
       "      <td>NaN</td>\n",
       "      <td>...</td>\n",
       "      <td>58.51</td>\n",
       "      <td>61.85</td>\n",
       "      <td>50.46</td>\n",
       "      <td>39.00</td>\n",
       "      <td>64.67</td>\n",
       "      <td>55.52</td>\n",
       "      <td>36.53</td>\n",
       "      <td>69.78</td>\n",
       "      <td>37.57</td>\n",
       "      <td>47.29</td>\n",
       "    </tr>\n",
       "    <tr>\n",
       "      <th>2999</th>\n",
       "      <td>1089</td>\n",
       "      <td>2024-04-01 00:00:00.000000000</td>\n",
       "      <td>Gmail</td>\n",
       "      <td>Utilities</td>\n",
       "      <td>18.50</td>\n",
       "      <td>1</td>\n",
       "      <td>2</td>\n",
       "      <td>False</td>\n",
       "      <td>NaN</td>\n",
       "      <td>NaN</td>\n",
       "      <td>...</td>\n",
       "      <td>34.99</td>\n",
       "      <td>54.42</td>\n",
       "      <td>43.67</td>\n",
       "      <td>57.42</td>\n",
       "      <td>57.47</td>\n",
       "      <td>29.89</td>\n",
       "      <td>57.10</td>\n",
       "      <td>53.50</td>\n",
       "      <td>44.21</td>\n",
       "      <td>46.26</td>\n",
       "    </tr>\n",
       "  </tbody>\n",
       "</table>\n",
       "<p>3000 rows × 24 columns</p>\n",
       "</div>"
      ],
      "text/plain": [
       "      user_id                           date         app_name       category  \\\n",
       "0        1051  2024-01-01 00:00:00.000000000           Camera      Utilities   \n",
       "1        1088  2024-01-01 00:43:41.673891297           Chrome      Utilities   \n",
       "2        1052  2024-01-01 01:27:23.347782594          Spotify  Entertainment   \n",
       "3        1028  2024-01-01 02:11:05.021673891      Google Maps      Utilities   \n",
       "4        1034  2024-01-01 02:54:46.695565188        Instagram         Social   \n",
       "...       ...                            ...              ...            ...   \n",
       "2995     1086  2024-03-31 21:05:13.304434812           Camera      Utilities   \n",
       "2996     1068  2024-03-31 21:48:54.978326109          Netflix  Entertainment   \n",
       "2997     1081  2024-03-31 22:32:36.652217406  Microsoft Teams   Productivity   \n",
       "2998     1038  2024-03-31 23:16:18.326108703         WhatsApp         Social   \n",
       "2999     1089  2024-04-01 00:00:00.000000000            Gmail      Utilities   \n",
       "\n",
       "      screen_time_min  launches  interactions  is_productive  youtube_views  \\\n",
       "0               24.53         2             7          False            NaN   \n",
       "1               19.78         3             2          False            NaN   \n",
       "2               32.03         1             6          False            NaN   \n",
       "3               19.10         2             5          False            NaN   \n",
       "4               25.19         1             5          False            NaN   \n",
       "...               ...       ...           ...            ...            ...   \n",
       "2995             9.91         2             3          False            NaN   \n",
       "2996             3.40         4             2          False            NaN   \n",
       "2997            17.18         2             6           True            NaN   \n",
       "2998           149.72         3             5          False            NaN   \n",
       "2999            18.50         1             2          False            NaN   \n",
       "\n",
       "      youtube_likes  ...  extra_col_14  extra_col_15  extra_col_16  \\\n",
       "0               NaN  ...         33.43         49.03         64.74   \n",
       "1               NaN  ...         44.06         49.40         66.63   \n",
       "2               NaN  ...         55.18         41.87         54.84   \n",
       "3               NaN  ...         59.39         47.87         54.68   \n",
       "4               NaN  ...         51.58         60.38         51.23   \n",
       "...             ...  ...           ...           ...           ...   \n",
       "2995            NaN  ...         60.29         63.28         36.44   \n",
       "2996            NaN  ...         47.08         37.49         47.07   \n",
       "2997            NaN  ...         44.27         57.20         52.23   \n",
       "2998            NaN  ...         58.51         61.85         50.46   \n",
       "2999            NaN  ...         34.99         54.42         43.67   \n",
       "\n",
       "      extra_col_17  extra_col_18  extra_col_19  extra_col_20  extra_col_21  \\\n",
       "0            49.49         47.64         38.34         39.56         49.14   \n",
       "1            62.10         47.64         51.88         42.35         55.86   \n",
       "2            65.59         61.28         49.51         41.11         55.53   \n",
       "3            56.14         63.98         46.75         46.98         40.15   \n",
       "4            44.38         52.71         58.19         37.47         55.64   \n",
       "...            ...           ...           ...           ...           ...   \n",
       "2995         45.08         39.41         35.40         53.36         50.18   \n",
       "2996         47.62         84.89         39.67         49.44         27.34   \n",
       "2997         55.06         59.39         56.39         36.01         59.60   \n",
       "2998         39.00         64.67         55.52         36.53         69.78   \n",
       "2999         57.42         57.47         29.89         57.10         53.50   \n",
       "\n",
       "      extra_col_22  extra_col_23  \n",
       "0            62.18         55.91  \n",
       "1            45.96         46.69  \n",
       "2            44.13         71.01  \n",
       "3            48.11         50.09  \n",
       "4            51.60         37.37  \n",
       "...            ...           ...  \n",
       "2995         57.08         62.56  \n",
       "2996         35.56         64.81  \n",
       "2997         56.91         49.69  \n",
       "2998         37.57         47.29  \n",
       "2999         44.21         46.26  \n",
       "\n",
       "[3000 rows x 24 columns]"
      ]
     },
     "execution_count": 2,
     "metadata": {},
     "output_type": "execute_result"
    }
   ],
   "source": [
    "# Load CSV\n",
    "Datapath = \"archive (1)/screen_time_app_usage_dataset.csv\"\n",
    "df = pd.read_csv(Datapath)\n",
    "\n",
    "# Look at first  rows\n",
    "df"
   ]
  },
  {
   "cell_type": "code",
   "execution_count": 3,
   "id": "a0307214",
   "metadata": {},
   "outputs": [
    {
     "name": "stdout",
     "output_type": "stream",
     "text": [
      "<class 'pandas.core.frame.DataFrame'>\n",
      "RangeIndex: 3000 entries, 0 to 2999\n",
      "Data columns (total 24 columns):\n",
      " #   Column            Non-Null Count  Dtype  \n",
      "---  ------            --------------  -----  \n",
      " 0   user_id           3000 non-null   int64  \n",
      " 1   date              3000 non-null   object \n",
      " 2   app_name          3000 non-null   object \n",
      " 3   category          3000 non-null   object \n",
      " 4   screen_time_min   3000 non-null   float64\n",
      " 5   launches          3000 non-null   int64  \n",
      " 6   interactions      3000 non-null   int64  \n",
      " 7   is_productive     3000 non-null   bool   \n",
      " 8   youtube_views     142 non-null    float64\n",
      " 9   youtube_likes     142 non-null    float64\n",
      " 10  youtube_comments  142 non-null    float64\n",
      " 11  extra_col_11      3000 non-null   float64\n",
      " 12  extra_col_12      3000 non-null   float64\n",
      " 13  extra_col_13      3000 non-null   float64\n",
      " 14  extra_col_14      3000 non-null   float64\n",
      " 15  extra_col_15      3000 non-null   float64\n",
      " 16  extra_col_16      3000 non-null   float64\n",
      " 17  extra_col_17      3000 non-null   float64\n",
      " 18  extra_col_18      3000 non-null   float64\n",
      " 19  extra_col_19      3000 non-null   float64\n",
      " 20  extra_col_20      3000 non-null   float64\n",
      " 21  extra_col_21      3000 non-null   float64\n",
      " 22  extra_col_22      3000 non-null   float64\n",
      " 23  extra_col_23      3000 non-null   float64\n",
      "dtypes: bool(1), float64(17), int64(3), object(3)\n",
      "memory usage: 542.1+ KB\n",
      "None\n"
     ]
    }
   ],
   "source": [
    "# Check column names and data types\n",
    "print(df.info())"
   ]
  },
  {
   "cell_type": "code",
   "execution_count": 4,
   "id": "276292dc",
   "metadata": {},
   "outputs": [
    {
     "data": {
      "text/html": [
       "<div>\n",
       "<style scoped>\n",
       "    .dataframe tbody tr th:only-of-type {\n",
       "        vertical-align: middle;\n",
       "    }\n",
       "\n",
       "    .dataframe tbody tr th {\n",
       "        vertical-align: top;\n",
       "    }\n",
       "\n",
       "    .dataframe thead th {\n",
       "        text-align: right;\n",
       "    }\n",
       "</style>\n",
       "<table border=\"1\" class=\"dataframe\">\n",
       "  <thead>\n",
       "    <tr style=\"text-align: right;\">\n",
       "      <th></th>\n",
       "      <th>user_id</th>\n",
       "      <th>date</th>\n",
       "      <th>app_name</th>\n",
       "      <th>category</th>\n",
       "      <th>screen_time_min</th>\n",
       "      <th>launches</th>\n",
       "      <th>interactions</th>\n",
       "      <th>is_productive</th>\n",
       "      <th>youtube_views</th>\n",
       "      <th>youtube_likes</th>\n",
       "      <th>...</th>\n",
       "      <th>extra_col_14</th>\n",
       "      <th>extra_col_15</th>\n",
       "      <th>extra_col_16</th>\n",
       "      <th>extra_col_17</th>\n",
       "      <th>extra_col_18</th>\n",
       "      <th>extra_col_19</th>\n",
       "      <th>extra_col_20</th>\n",
       "      <th>extra_col_21</th>\n",
       "      <th>extra_col_22</th>\n",
       "      <th>extra_col_23</th>\n",
       "    </tr>\n",
       "  </thead>\n",
       "  <tbody>\n",
       "    <tr>\n",
       "      <th>count</th>\n",
       "      <td>3000.000000</td>\n",
       "      <td>3000</td>\n",
       "      <td>3000</td>\n",
       "      <td>3000</td>\n",
       "      <td>3000.000000</td>\n",
       "      <td>3000.000000</td>\n",
       "      <td>3000.000000</td>\n",
       "      <td>3000</td>\n",
       "      <td>142.000000</td>\n",
       "      <td>142.000000</td>\n",
       "      <td>...</td>\n",
       "      <td>3000.000000</td>\n",
       "      <td>3000.000000</td>\n",
       "      <td>3000.000000</td>\n",
       "      <td>3000.000000</td>\n",
       "      <td>3000.000000</td>\n",
       "      <td>3000.000000</td>\n",
       "      <td>3000.000000</td>\n",
       "      <td>3000.000000</td>\n",
       "      <td>3000.000000</td>\n",
       "      <td>3000.000000</td>\n",
       "    </tr>\n",
       "    <tr>\n",
       "      <th>unique</th>\n",
       "      <td>NaN</td>\n",
       "      <td>3000</td>\n",
       "      <td>20</td>\n",
       "      <td>4</td>\n",
       "      <td>NaN</td>\n",
       "      <td>NaN</td>\n",
       "      <td>NaN</td>\n",
       "      <td>2</td>\n",
       "      <td>NaN</td>\n",
       "      <td>NaN</td>\n",
       "      <td>...</td>\n",
       "      <td>NaN</td>\n",
       "      <td>NaN</td>\n",
       "      <td>NaN</td>\n",
       "      <td>NaN</td>\n",
       "      <td>NaN</td>\n",
       "      <td>NaN</td>\n",
       "      <td>NaN</td>\n",
       "      <td>NaN</td>\n",
       "      <td>NaN</td>\n",
       "      <td>NaN</td>\n",
       "    </tr>\n",
       "    <tr>\n",
       "      <th>top</th>\n",
       "      <td>NaN</td>\n",
       "      <td>2024-04-01 00:00:00.000000000</td>\n",
       "      <td>Chrome</td>\n",
       "      <td>Social</td>\n",
       "      <td>NaN</td>\n",
       "      <td>NaN</td>\n",
       "      <td>NaN</td>\n",
       "      <td>False</td>\n",
       "      <td>NaN</td>\n",
       "      <td>NaN</td>\n",
       "      <td>...</td>\n",
       "      <td>NaN</td>\n",
       "      <td>NaN</td>\n",
       "      <td>NaN</td>\n",
       "      <td>NaN</td>\n",
       "      <td>NaN</td>\n",
       "      <td>NaN</td>\n",
       "      <td>NaN</td>\n",
       "      <td>NaN</td>\n",
       "      <td>NaN</td>\n",
       "      <td>NaN</td>\n",
       "    </tr>\n",
       "    <tr>\n",
       "      <th>freq</th>\n",
       "      <td>NaN</td>\n",
       "      <td>1</td>\n",
       "      <td>172</td>\n",
       "      <td>763</td>\n",
       "      <td>NaN</td>\n",
       "      <td>NaN</td>\n",
       "      <td>NaN</td>\n",
       "      <td>2247</td>\n",
       "      <td>NaN</td>\n",
       "      <td>NaN</td>\n",
       "      <td>...</td>\n",
       "      <td>NaN</td>\n",
       "      <td>NaN</td>\n",
       "      <td>NaN</td>\n",
       "      <td>NaN</td>\n",
       "      <td>NaN</td>\n",
       "      <td>NaN</td>\n",
       "      <td>NaN</td>\n",
       "      <td>NaN</td>\n",
       "      <td>NaN</td>\n",
       "      <td>NaN</td>\n",
       "    </tr>\n",
       "    <tr>\n",
       "      <th>mean</th>\n",
       "      <td>1049.800667</td>\n",
       "      <td>NaN</td>\n",
       "      <td>NaN</td>\n",
       "      <td>NaN</td>\n",
       "      <td>29.902057</td>\n",
       "      <td>1.993333</td>\n",
       "      <td>4.962000</td>\n",
       "      <td>NaN</td>\n",
       "      <td>256577.183099</td>\n",
       "      <td>14645.267606</td>\n",
       "      <td>...</td>\n",
       "      <td>49.998870</td>\n",
       "      <td>49.822413</td>\n",
       "      <td>49.960327</td>\n",
       "      <td>50.130267</td>\n",
       "      <td>50.127877</td>\n",
       "      <td>50.249073</td>\n",
       "      <td>50.178630</td>\n",
       "      <td>50.123747</td>\n",
       "      <td>49.909863</td>\n",
       "      <td>50.225897</td>\n",
       "    </tr>\n",
       "    <tr>\n",
       "      <th>std</th>\n",
       "      <td>29.406369</td>\n",
       "      <td>NaN</td>\n",
       "      <td>NaN</td>\n",
       "      <td>NaN</td>\n",
       "      <td>30.561599</td>\n",
       "      <td>1.403547</td>\n",
       "      <td>2.223257</td>\n",
       "      <td>NaN</td>\n",
       "      <td>135872.940749</td>\n",
       "      <td>10511.930022</td>\n",
       "      <td>...</td>\n",
       "      <td>10.016451</td>\n",
       "      <td>9.919993</td>\n",
       "      <td>9.884018</td>\n",
       "      <td>9.879061</td>\n",
       "      <td>10.123428</td>\n",
       "      <td>9.915091</td>\n",
       "      <td>9.845217</td>\n",
       "      <td>9.824277</td>\n",
       "      <td>10.090710</td>\n",
       "      <td>10.028457</td>\n",
       "    </tr>\n",
       "    <tr>\n",
       "      <th>min</th>\n",
       "      <td>1000.000000</td>\n",
       "      <td>NaN</td>\n",
       "      <td>NaN</td>\n",
       "      <td>NaN</td>\n",
       "      <td>0.010000</td>\n",
       "      <td>0.000000</td>\n",
       "      <td>0.000000</td>\n",
       "      <td>NaN</td>\n",
       "      <td>1738.000000</td>\n",
       "      <td>69.000000</td>\n",
       "      <td>...</td>\n",
       "      <td>13.950000</td>\n",
       "      <td>11.010000</td>\n",
       "      <td>13.200000</td>\n",
       "      <td>13.860000</td>\n",
       "      <td>16.880000</td>\n",
       "      <td>18.230000</td>\n",
       "      <td>15.010000</td>\n",
       "      <td>20.040000</td>\n",
       "      <td>12.170000</td>\n",
       "      <td>15.910000</td>\n",
       "    </tr>\n",
       "    <tr>\n",
       "      <th>25%</th>\n",
       "      <td>1024.000000</td>\n",
       "      <td>NaN</td>\n",
       "      <td>NaN</td>\n",
       "      <td>NaN</td>\n",
       "      <td>8.617500</td>\n",
       "      <td>1.000000</td>\n",
       "      <td>3.000000</td>\n",
       "      <td>NaN</td>\n",
       "      <td>141490.000000</td>\n",
       "      <td>6548.250000</td>\n",
       "      <td>...</td>\n",
       "      <td>43.427500</td>\n",
       "      <td>43.115000</td>\n",
       "      <td>43.157500</td>\n",
       "      <td>43.310000</td>\n",
       "      <td>43.410000</td>\n",
       "      <td>43.417500</td>\n",
       "      <td>43.307500</td>\n",
       "      <td>43.357500</td>\n",
       "      <td>43.237500</td>\n",
       "      <td>43.450000</td>\n",
       "    </tr>\n",
       "    <tr>\n",
       "      <th>50%</th>\n",
       "      <td>1049.000000</td>\n",
       "      <td>NaN</td>\n",
       "      <td>NaN</td>\n",
       "      <td>NaN</td>\n",
       "      <td>20.585000</td>\n",
       "      <td>2.000000</td>\n",
       "      <td>5.000000</td>\n",
       "      <td>NaN</td>\n",
       "      <td>249747.000000</td>\n",
       "      <td>12928.500000</td>\n",
       "      <td>...</td>\n",
       "      <td>50.130000</td>\n",
       "      <td>49.520000</td>\n",
       "      <td>49.870000</td>\n",
       "      <td>50.120000</td>\n",
       "      <td>50.180000</td>\n",
       "      <td>50.175000</td>\n",
       "      <td>50.080000</td>\n",
       "      <td>49.960000</td>\n",
       "      <td>49.785000</td>\n",
       "      <td>50.170000</td>\n",
       "    </tr>\n",
       "    <tr>\n",
       "      <th>75%</th>\n",
       "      <td>1076.000000</td>\n",
       "      <td>NaN</td>\n",
       "      <td>NaN</td>\n",
       "      <td>NaN</td>\n",
       "      <td>40.415000</td>\n",
       "      <td>3.000000</td>\n",
       "      <td>6.000000</td>\n",
       "      <td>NaN</td>\n",
       "      <td>364498.000000</td>\n",
       "      <td>19929.000000</td>\n",
       "      <td>...</td>\n",
       "      <td>56.692500</td>\n",
       "      <td>56.507500</td>\n",
       "      <td>56.595000</td>\n",
       "      <td>56.695000</td>\n",
       "      <td>56.720000</td>\n",
       "      <td>56.790000</td>\n",
       "      <td>56.920000</td>\n",
       "      <td>57.040000</td>\n",
       "      <td>56.702500</td>\n",
       "      <td>57.062500</td>\n",
       "    </tr>\n",
       "    <tr>\n",
       "      <th>max</th>\n",
       "      <td>1100.000000</td>\n",
       "      <td>NaN</td>\n",
       "      <td>NaN</td>\n",
       "      <td>NaN</td>\n",
       "      <td>218.390000</td>\n",
       "      <td>9.000000</td>\n",
       "      <td>13.000000</td>\n",
       "      <td>NaN</td>\n",
       "      <td>494839.000000</td>\n",
       "      <td>43893.000000</td>\n",
       "      <td>...</td>\n",
       "      <td>84.380000</td>\n",
       "      <td>78.050000</td>\n",
       "      <td>92.520000</td>\n",
       "      <td>92.480000</td>\n",
       "      <td>84.890000</td>\n",
       "      <td>85.090000</td>\n",
       "      <td>86.100000</td>\n",
       "      <td>84.950000</td>\n",
       "      <td>80.810000</td>\n",
       "      <td>84.800000</td>\n",
       "    </tr>\n",
       "  </tbody>\n",
       "</table>\n",
       "<p>11 rows × 24 columns</p>\n",
       "</div>"
      ],
      "text/plain": [
       "            user_id                           date app_name category  \\\n",
       "count   3000.000000                           3000     3000     3000   \n",
       "unique          NaN                           3000       20        4   \n",
       "top             NaN  2024-04-01 00:00:00.000000000   Chrome   Social   \n",
       "freq            NaN                              1      172      763   \n",
       "mean    1049.800667                            NaN      NaN      NaN   \n",
       "std       29.406369                            NaN      NaN      NaN   \n",
       "min     1000.000000                            NaN      NaN      NaN   \n",
       "25%     1024.000000                            NaN      NaN      NaN   \n",
       "50%     1049.000000                            NaN      NaN      NaN   \n",
       "75%     1076.000000                            NaN      NaN      NaN   \n",
       "max     1100.000000                            NaN      NaN      NaN   \n",
       "\n",
       "        screen_time_min     launches  interactions is_productive  \\\n",
       "count       3000.000000  3000.000000   3000.000000          3000   \n",
       "unique              NaN          NaN           NaN             2   \n",
       "top                 NaN          NaN           NaN         False   \n",
       "freq                NaN          NaN           NaN          2247   \n",
       "mean          29.902057     1.993333      4.962000           NaN   \n",
       "std           30.561599     1.403547      2.223257           NaN   \n",
       "min            0.010000     0.000000      0.000000           NaN   \n",
       "25%            8.617500     1.000000      3.000000           NaN   \n",
       "50%           20.585000     2.000000      5.000000           NaN   \n",
       "75%           40.415000     3.000000      6.000000           NaN   \n",
       "max          218.390000     9.000000     13.000000           NaN   \n",
       "\n",
       "        youtube_views  youtube_likes  ...  extra_col_14  extra_col_15  \\\n",
       "count      142.000000     142.000000  ...   3000.000000   3000.000000   \n",
       "unique            NaN            NaN  ...           NaN           NaN   \n",
       "top               NaN            NaN  ...           NaN           NaN   \n",
       "freq              NaN            NaN  ...           NaN           NaN   \n",
       "mean    256577.183099   14645.267606  ...     49.998870     49.822413   \n",
       "std     135872.940749   10511.930022  ...     10.016451      9.919993   \n",
       "min       1738.000000      69.000000  ...     13.950000     11.010000   \n",
       "25%     141490.000000    6548.250000  ...     43.427500     43.115000   \n",
       "50%     249747.000000   12928.500000  ...     50.130000     49.520000   \n",
       "75%     364498.000000   19929.000000  ...     56.692500     56.507500   \n",
       "max     494839.000000   43893.000000  ...     84.380000     78.050000   \n",
       "\n",
       "        extra_col_16  extra_col_17  extra_col_18  extra_col_19  extra_col_20  \\\n",
       "count    3000.000000   3000.000000   3000.000000   3000.000000   3000.000000   \n",
       "unique           NaN           NaN           NaN           NaN           NaN   \n",
       "top              NaN           NaN           NaN           NaN           NaN   \n",
       "freq             NaN           NaN           NaN           NaN           NaN   \n",
       "mean       49.960327     50.130267     50.127877     50.249073     50.178630   \n",
       "std         9.884018      9.879061     10.123428      9.915091      9.845217   \n",
       "min        13.200000     13.860000     16.880000     18.230000     15.010000   \n",
       "25%        43.157500     43.310000     43.410000     43.417500     43.307500   \n",
       "50%        49.870000     50.120000     50.180000     50.175000     50.080000   \n",
       "75%        56.595000     56.695000     56.720000     56.790000     56.920000   \n",
       "max        92.520000     92.480000     84.890000     85.090000     86.100000   \n",
       "\n",
       "        extra_col_21  extra_col_22  extra_col_23  \n",
       "count    3000.000000   3000.000000   3000.000000  \n",
       "unique           NaN           NaN           NaN  \n",
       "top              NaN           NaN           NaN  \n",
       "freq             NaN           NaN           NaN  \n",
       "mean       50.123747     49.909863     50.225897  \n",
       "std         9.824277     10.090710     10.028457  \n",
       "min        20.040000     12.170000     15.910000  \n",
       "25%        43.357500     43.237500     43.450000  \n",
       "50%        49.960000     49.785000     50.170000  \n",
       "75%        57.040000     56.702500     57.062500  \n",
       "max        84.950000     80.810000     84.800000  \n",
       "\n",
       "[11 rows x 24 columns]"
      ]
     },
     "execution_count": 4,
     "metadata": {},
     "output_type": "execute_result"
    }
   ],
   "source": [
    "# check statistical analysis for all columns\n",
    "df.describe(include=\"all\")"
   ]
  },
  {
   "cell_type": "markdown",
   "id": "16104c72",
   "metadata": {},
   "source": [
    "### Data Cleaning"
   ]
  },
  {
   "cell_type": "code",
   "execution_count": 5,
   "id": "d079fa75",
   "metadata": {},
   "outputs": [
    {
     "data": {
      "text/html": [
       "<div>\n",
       "<style scoped>\n",
       "    .dataframe tbody tr th:only-of-type {\n",
       "        vertical-align: middle;\n",
       "    }\n",
       "\n",
       "    .dataframe tbody tr th {\n",
       "        vertical-align: top;\n",
       "    }\n",
       "\n",
       "    .dataframe thead th {\n",
       "        text-align: right;\n",
       "    }\n",
       "</style>\n",
       "<table border=\"1\" class=\"dataframe\">\n",
       "  <thead>\n",
       "    <tr style=\"text-align: right;\">\n",
       "      <th></th>\n",
       "      <th>user_id</th>\n",
       "      <th>date</th>\n",
       "      <th>app_name</th>\n",
       "      <th>category</th>\n",
       "      <th>screen_time_min</th>\n",
       "      <th>launches</th>\n",
       "      <th>interactions</th>\n",
       "      <th>is_productive</th>\n",
       "      <th>youtube_views</th>\n",
       "      <th>youtube_likes</th>\n",
       "      <th>youtube_comments</th>\n",
       "    </tr>\n",
       "  </thead>\n",
       "  <tbody>\n",
       "    <tr>\n",
       "      <th>0</th>\n",
       "      <td>1051</td>\n",
       "      <td>2024-01-01 00:00:00.000000000</td>\n",
       "      <td>Camera</td>\n",
       "      <td>Utilities</td>\n",
       "      <td>24.53</td>\n",
       "      <td>2</td>\n",
       "      <td>7</td>\n",
       "      <td>False</td>\n",
       "      <td>NaN</td>\n",
       "      <td>NaN</td>\n",
       "      <td>NaN</td>\n",
       "    </tr>\n",
       "    <tr>\n",
       "      <th>1</th>\n",
       "      <td>1088</td>\n",
       "      <td>2024-01-01 00:43:41.673891297</td>\n",
       "      <td>Chrome</td>\n",
       "      <td>Utilities</td>\n",
       "      <td>19.78</td>\n",
       "      <td>3</td>\n",
       "      <td>2</td>\n",
       "      <td>False</td>\n",
       "      <td>NaN</td>\n",
       "      <td>NaN</td>\n",
       "      <td>NaN</td>\n",
       "    </tr>\n",
       "    <tr>\n",
       "      <th>2</th>\n",
       "      <td>1052</td>\n",
       "      <td>2024-01-01 01:27:23.347782594</td>\n",
       "      <td>Spotify</td>\n",
       "      <td>Entertainment</td>\n",
       "      <td>32.03</td>\n",
       "      <td>1</td>\n",
       "      <td>6</td>\n",
       "      <td>False</td>\n",
       "      <td>NaN</td>\n",
       "      <td>NaN</td>\n",
       "      <td>NaN</td>\n",
       "    </tr>\n",
       "    <tr>\n",
       "      <th>3</th>\n",
       "      <td>1028</td>\n",
       "      <td>2024-01-01 02:11:05.021673891</td>\n",
       "      <td>Google Maps</td>\n",
       "      <td>Utilities</td>\n",
       "      <td>19.10</td>\n",
       "      <td>2</td>\n",
       "      <td>5</td>\n",
       "      <td>False</td>\n",
       "      <td>NaN</td>\n",
       "      <td>NaN</td>\n",
       "      <td>NaN</td>\n",
       "    </tr>\n",
       "    <tr>\n",
       "      <th>4</th>\n",
       "      <td>1034</td>\n",
       "      <td>2024-01-01 02:54:46.695565188</td>\n",
       "      <td>Instagram</td>\n",
       "      <td>Social</td>\n",
       "      <td>25.19</td>\n",
       "      <td>1</td>\n",
       "      <td>5</td>\n",
       "      <td>False</td>\n",
       "      <td>NaN</td>\n",
       "      <td>NaN</td>\n",
       "      <td>NaN</td>\n",
       "    </tr>\n",
       "    <tr>\n",
       "      <th>...</th>\n",
       "      <td>...</td>\n",
       "      <td>...</td>\n",
       "      <td>...</td>\n",
       "      <td>...</td>\n",
       "      <td>...</td>\n",
       "      <td>...</td>\n",
       "      <td>...</td>\n",
       "      <td>...</td>\n",
       "      <td>...</td>\n",
       "      <td>...</td>\n",
       "      <td>...</td>\n",
       "    </tr>\n",
       "    <tr>\n",
       "      <th>2995</th>\n",
       "      <td>1086</td>\n",
       "      <td>2024-03-31 21:05:13.304434812</td>\n",
       "      <td>Camera</td>\n",
       "      <td>Utilities</td>\n",
       "      <td>9.91</td>\n",
       "      <td>2</td>\n",
       "      <td>3</td>\n",
       "      <td>False</td>\n",
       "      <td>NaN</td>\n",
       "      <td>NaN</td>\n",
       "      <td>NaN</td>\n",
       "    </tr>\n",
       "    <tr>\n",
       "      <th>2996</th>\n",
       "      <td>1068</td>\n",
       "      <td>2024-03-31 21:48:54.978326109</td>\n",
       "      <td>Netflix</td>\n",
       "      <td>Entertainment</td>\n",
       "      <td>3.40</td>\n",
       "      <td>4</td>\n",
       "      <td>2</td>\n",
       "      <td>False</td>\n",
       "      <td>NaN</td>\n",
       "      <td>NaN</td>\n",
       "      <td>NaN</td>\n",
       "    </tr>\n",
       "    <tr>\n",
       "      <th>2997</th>\n",
       "      <td>1081</td>\n",
       "      <td>2024-03-31 22:32:36.652217406</td>\n",
       "      <td>Microsoft Teams</td>\n",
       "      <td>Productivity</td>\n",
       "      <td>17.18</td>\n",
       "      <td>2</td>\n",
       "      <td>6</td>\n",
       "      <td>True</td>\n",
       "      <td>NaN</td>\n",
       "      <td>NaN</td>\n",
       "      <td>NaN</td>\n",
       "    </tr>\n",
       "    <tr>\n",
       "      <th>2998</th>\n",
       "      <td>1038</td>\n",
       "      <td>2024-03-31 23:16:18.326108703</td>\n",
       "      <td>WhatsApp</td>\n",
       "      <td>Social</td>\n",
       "      <td>149.72</td>\n",
       "      <td>3</td>\n",
       "      <td>5</td>\n",
       "      <td>False</td>\n",
       "      <td>NaN</td>\n",
       "      <td>NaN</td>\n",
       "      <td>NaN</td>\n",
       "    </tr>\n",
       "    <tr>\n",
       "      <th>2999</th>\n",
       "      <td>1089</td>\n",
       "      <td>2024-04-01 00:00:00.000000000</td>\n",
       "      <td>Gmail</td>\n",
       "      <td>Utilities</td>\n",
       "      <td>18.50</td>\n",
       "      <td>1</td>\n",
       "      <td>2</td>\n",
       "      <td>False</td>\n",
       "      <td>NaN</td>\n",
       "      <td>NaN</td>\n",
       "      <td>NaN</td>\n",
       "    </tr>\n",
       "  </tbody>\n",
       "</table>\n",
       "<p>3000 rows × 11 columns</p>\n",
       "</div>"
      ],
      "text/plain": [
       "      user_id                           date         app_name       category  \\\n",
       "0        1051  2024-01-01 00:00:00.000000000           Camera      Utilities   \n",
       "1        1088  2024-01-01 00:43:41.673891297           Chrome      Utilities   \n",
       "2        1052  2024-01-01 01:27:23.347782594          Spotify  Entertainment   \n",
       "3        1028  2024-01-01 02:11:05.021673891      Google Maps      Utilities   \n",
       "4        1034  2024-01-01 02:54:46.695565188        Instagram         Social   \n",
       "...       ...                            ...              ...            ...   \n",
       "2995     1086  2024-03-31 21:05:13.304434812           Camera      Utilities   \n",
       "2996     1068  2024-03-31 21:48:54.978326109          Netflix  Entertainment   \n",
       "2997     1081  2024-03-31 22:32:36.652217406  Microsoft Teams   Productivity   \n",
       "2998     1038  2024-03-31 23:16:18.326108703         WhatsApp         Social   \n",
       "2999     1089  2024-04-01 00:00:00.000000000            Gmail      Utilities   \n",
       "\n",
       "      screen_time_min  launches  interactions  is_productive  youtube_views  \\\n",
       "0               24.53         2             7          False            NaN   \n",
       "1               19.78         3             2          False            NaN   \n",
       "2               32.03         1             6          False            NaN   \n",
       "3               19.10         2             5          False            NaN   \n",
       "4               25.19         1             5          False            NaN   \n",
       "...               ...       ...           ...            ...            ...   \n",
       "2995             9.91         2             3          False            NaN   \n",
       "2996             3.40         4             2          False            NaN   \n",
       "2997            17.18         2             6           True            NaN   \n",
       "2998           149.72         3             5          False            NaN   \n",
       "2999            18.50         1             2          False            NaN   \n",
       "\n",
       "      youtube_likes  youtube_comments  \n",
       "0               NaN               NaN  \n",
       "1               NaN               NaN  \n",
       "2               NaN               NaN  \n",
       "3               NaN               NaN  \n",
       "4               NaN               NaN  \n",
       "...             ...               ...  \n",
       "2995            NaN               NaN  \n",
       "2996            NaN               NaN  \n",
       "2997            NaN               NaN  \n",
       "2998            NaN               NaN  \n",
       "2999            NaN               NaN  \n",
       "\n",
       "[3000 rows x 11 columns]"
      ]
     },
     "execution_count": 5,
     "metadata": {},
     "output_type": "execute_result"
    }
   ],
   "source": [
    "# Dropping unwanted columns from the data set\n",
    "df = df.drop(['extra_col_11','extra_col_12','extra_col_13','extra_col_14','extra_col_15','extra_col_16','extra_col_17', 'extra_col_18', \n",
    "              'extra_col_19', 'extra_col_20','extra_col_21', 'extra_col_22', 'extra_col_23'], axis=1)\n",
    "\n",
    "df"
   ]
  },
  {
   "cell_type": "code",
   "execution_count": 6,
   "id": "0a37b05d",
   "metadata": {},
   "outputs": [],
   "source": [
    "# separate date and time\n",
    "df['date'] = pd.to_datetime(df['date'])"
   ]
  },
  {
   "cell_type": "code",
   "execution_count": 7,
   "id": "813ca534",
   "metadata": {},
   "outputs": [],
   "source": [
    "df['date_only'] = pd.to_datetime(df['date']).dt.date\n",
    "df['time_only'] = pd.to_datetime(df['date']).dt.time"
   ]
  },
  {
   "cell_type": "code",
   "execution_count": 8,
   "id": "2806764f",
   "metadata": {},
   "outputs": [
    {
     "data": {
      "text/html": [
       "<div>\n",
       "<style scoped>\n",
       "    .dataframe tbody tr th:only-of-type {\n",
       "        vertical-align: middle;\n",
       "    }\n",
       "\n",
       "    .dataframe tbody tr th {\n",
       "        vertical-align: top;\n",
       "    }\n",
       "\n",
       "    .dataframe thead th {\n",
       "        text-align: right;\n",
       "    }\n",
       "</style>\n",
       "<table border=\"1\" class=\"dataframe\">\n",
       "  <thead>\n",
       "    <tr style=\"text-align: right;\">\n",
       "      <th></th>\n",
       "      <th>user_id</th>\n",
       "      <th>date</th>\n",
       "      <th>app_name</th>\n",
       "      <th>category</th>\n",
       "      <th>screen_time_min</th>\n",
       "      <th>launches</th>\n",
       "      <th>interactions</th>\n",
       "      <th>is_productive</th>\n",
       "      <th>youtube_views</th>\n",
       "      <th>youtube_likes</th>\n",
       "      <th>youtube_comments</th>\n",
       "      <th>date_only</th>\n",
       "      <th>time_only</th>\n",
       "    </tr>\n",
       "  </thead>\n",
       "  <tbody>\n",
       "    <tr>\n",
       "      <th>0</th>\n",
       "      <td>1051</td>\n",
       "      <td>2024-01-01 00:00:00.000000000</td>\n",
       "      <td>Camera</td>\n",
       "      <td>Utilities</td>\n",
       "      <td>24.53</td>\n",
       "      <td>2</td>\n",
       "      <td>7</td>\n",
       "      <td>False</td>\n",
       "      <td>NaN</td>\n",
       "      <td>NaN</td>\n",
       "      <td>NaN</td>\n",
       "      <td>2024-01-01</td>\n",
       "      <td>00:00:00</td>\n",
       "    </tr>\n",
       "    <tr>\n",
       "      <th>1</th>\n",
       "      <td>1088</td>\n",
       "      <td>2024-01-01 00:43:41.673891297</td>\n",
       "      <td>Chrome</td>\n",
       "      <td>Utilities</td>\n",
       "      <td>19.78</td>\n",
       "      <td>3</td>\n",
       "      <td>2</td>\n",
       "      <td>False</td>\n",
       "      <td>NaN</td>\n",
       "      <td>NaN</td>\n",
       "      <td>NaN</td>\n",
       "      <td>2024-01-01</td>\n",
       "      <td>00:43:41.673891</td>\n",
       "    </tr>\n",
       "    <tr>\n",
       "      <th>2</th>\n",
       "      <td>1052</td>\n",
       "      <td>2024-01-01 01:27:23.347782594</td>\n",
       "      <td>Spotify</td>\n",
       "      <td>Entertainment</td>\n",
       "      <td>32.03</td>\n",
       "      <td>1</td>\n",
       "      <td>6</td>\n",
       "      <td>False</td>\n",
       "      <td>NaN</td>\n",
       "      <td>NaN</td>\n",
       "      <td>NaN</td>\n",
       "      <td>2024-01-01</td>\n",
       "      <td>01:27:23.347782</td>\n",
       "    </tr>\n",
       "    <tr>\n",
       "      <th>3</th>\n",
       "      <td>1028</td>\n",
       "      <td>2024-01-01 02:11:05.021673891</td>\n",
       "      <td>Google Maps</td>\n",
       "      <td>Utilities</td>\n",
       "      <td>19.10</td>\n",
       "      <td>2</td>\n",
       "      <td>5</td>\n",
       "      <td>False</td>\n",
       "      <td>NaN</td>\n",
       "      <td>NaN</td>\n",
       "      <td>NaN</td>\n",
       "      <td>2024-01-01</td>\n",
       "      <td>02:11:05.021673</td>\n",
       "    </tr>\n",
       "    <tr>\n",
       "      <th>4</th>\n",
       "      <td>1034</td>\n",
       "      <td>2024-01-01 02:54:46.695565188</td>\n",
       "      <td>Instagram</td>\n",
       "      <td>Social</td>\n",
       "      <td>25.19</td>\n",
       "      <td>1</td>\n",
       "      <td>5</td>\n",
       "      <td>False</td>\n",
       "      <td>NaN</td>\n",
       "      <td>NaN</td>\n",
       "      <td>NaN</td>\n",
       "      <td>2024-01-01</td>\n",
       "      <td>02:54:46.695565</td>\n",
       "    </tr>\n",
       "    <tr>\n",
       "      <th>...</th>\n",
       "      <td>...</td>\n",
       "      <td>...</td>\n",
       "      <td>...</td>\n",
       "      <td>...</td>\n",
       "      <td>...</td>\n",
       "      <td>...</td>\n",
       "      <td>...</td>\n",
       "      <td>...</td>\n",
       "      <td>...</td>\n",
       "      <td>...</td>\n",
       "      <td>...</td>\n",
       "      <td>...</td>\n",
       "      <td>...</td>\n",
       "    </tr>\n",
       "    <tr>\n",
       "      <th>2995</th>\n",
       "      <td>1086</td>\n",
       "      <td>2024-03-31 21:05:13.304434812</td>\n",
       "      <td>Camera</td>\n",
       "      <td>Utilities</td>\n",
       "      <td>9.91</td>\n",
       "      <td>2</td>\n",
       "      <td>3</td>\n",
       "      <td>False</td>\n",
       "      <td>NaN</td>\n",
       "      <td>NaN</td>\n",
       "      <td>NaN</td>\n",
       "      <td>2024-03-31</td>\n",
       "      <td>21:05:13.304434</td>\n",
       "    </tr>\n",
       "    <tr>\n",
       "      <th>2996</th>\n",
       "      <td>1068</td>\n",
       "      <td>2024-03-31 21:48:54.978326109</td>\n",
       "      <td>Netflix</td>\n",
       "      <td>Entertainment</td>\n",
       "      <td>3.40</td>\n",
       "      <td>4</td>\n",
       "      <td>2</td>\n",
       "      <td>False</td>\n",
       "      <td>NaN</td>\n",
       "      <td>NaN</td>\n",
       "      <td>NaN</td>\n",
       "      <td>2024-03-31</td>\n",
       "      <td>21:48:54.978326</td>\n",
       "    </tr>\n",
       "    <tr>\n",
       "      <th>2997</th>\n",
       "      <td>1081</td>\n",
       "      <td>2024-03-31 22:32:36.652217406</td>\n",
       "      <td>Microsoft Teams</td>\n",
       "      <td>Productivity</td>\n",
       "      <td>17.18</td>\n",
       "      <td>2</td>\n",
       "      <td>6</td>\n",
       "      <td>True</td>\n",
       "      <td>NaN</td>\n",
       "      <td>NaN</td>\n",
       "      <td>NaN</td>\n",
       "      <td>2024-03-31</td>\n",
       "      <td>22:32:36.652217</td>\n",
       "    </tr>\n",
       "    <tr>\n",
       "      <th>2998</th>\n",
       "      <td>1038</td>\n",
       "      <td>2024-03-31 23:16:18.326108703</td>\n",
       "      <td>WhatsApp</td>\n",
       "      <td>Social</td>\n",
       "      <td>149.72</td>\n",
       "      <td>3</td>\n",
       "      <td>5</td>\n",
       "      <td>False</td>\n",
       "      <td>NaN</td>\n",
       "      <td>NaN</td>\n",
       "      <td>NaN</td>\n",
       "      <td>2024-03-31</td>\n",
       "      <td>23:16:18.326108</td>\n",
       "    </tr>\n",
       "    <tr>\n",
       "      <th>2999</th>\n",
       "      <td>1089</td>\n",
       "      <td>2024-04-01 00:00:00.000000000</td>\n",
       "      <td>Gmail</td>\n",
       "      <td>Utilities</td>\n",
       "      <td>18.50</td>\n",
       "      <td>1</td>\n",
       "      <td>2</td>\n",
       "      <td>False</td>\n",
       "      <td>NaN</td>\n",
       "      <td>NaN</td>\n",
       "      <td>NaN</td>\n",
       "      <td>2024-04-01</td>\n",
       "      <td>00:00:00</td>\n",
       "    </tr>\n",
       "  </tbody>\n",
       "</table>\n",
       "<p>3000 rows × 13 columns</p>\n",
       "</div>"
      ],
      "text/plain": [
       "      user_id                          date         app_name       category  \\\n",
       "0        1051 2024-01-01 00:00:00.000000000           Camera      Utilities   \n",
       "1        1088 2024-01-01 00:43:41.673891297           Chrome      Utilities   \n",
       "2        1052 2024-01-01 01:27:23.347782594          Spotify  Entertainment   \n",
       "3        1028 2024-01-01 02:11:05.021673891      Google Maps      Utilities   \n",
       "4        1034 2024-01-01 02:54:46.695565188        Instagram         Social   \n",
       "...       ...                           ...              ...            ...   \n",
       "2995     1086 2024-03-31 21:05:13.304434812           Camera      Utilities   \n",
       "2996     1068 2024-03-31 21:48:54.978326109          Netflix  Entertainment   \n",
       "2997     1081 2024-03-31 22:32:36.652217406  Microsoft Teams   Productivity   \n",
       "2998     1038 2024-03-31 23:16:18.326108703         WhatsApp         Social   \n",
       "2999     1089 2024-04-01 00:00:00.000000000            Gmail      Utilities   \n",
       "\n",
       "      screen_time_min  launches  interactions  is_productive  youtube_views  \\\n",
       "0               24.53         2             7          False            NaN   \n",
       "1               19.78         3             2          False            NaN   \n",
       "2               32.03         1             6          False            NaN   \n",
       "3               19.10         2             5          False            NaN   \n",
       "4               25.19         1             5          False            NaN   \n",
       "...               ...       ...           ...            ...            ...   \n",
       "2995             9.91         2             3          False            NaN   \n",
       "2996             3.40         4             2          False            NaN   \n",
       "2997            17.18         2             6           True            NaN   \n",
       "2998           149.72         3             5          False            NaN   \n",
       "2999            18.50         1             2          False            NaN   \n",
       "\n",
       "      youtube_likes  youtube_comments   date_only        time_only  \n",
       "0               NaN               NaN  2024-01-01         00:00:00  \n",
       "1               NaN               NaN  2024-01-01  00:43:41.673891  \n",
       "2               NaN               NaN  2024-01-01  01:27:23.347782  \n",
       "3               NaN               NaN  2024-01-01  02:11:05.021673  \n",
       "4               NaN               NaN  2024-01-01  02:54:46.695565  \n",
       "...             ...               ...         ...              ...  \n",
       "2995            NaN               NaN  2024-03-31  21:05:13.304434  \n",
       "2996            NaN               NaN  2024-03-31  21:48:54.978326  \n",
       "2997            NaN               NaN  2024-03-31  22:32:36.652217  \n",
       "2998            NaN               NaN  2024-03-31  23:16:18.326108  \n",
       "2999            NaN               NaN  2024-04-01         00:00:00  \n",
       "\n",
       "[3000 rows x 13 columns]"
      ]
     },
     "execution_count": 8,
     "metadata": {},
     "output_type": "execute_result"
    }
   ],
   "source": [
    "df"
   ]
  },
  {
   "cell_type": "code",
   "execution_count": 9,
   "id": "eb30eea8",
   "metadata": {},
   "outputs": [
    {
     "data": {
      "text/html": [
       "<div>\n",
       "<style scoped>\n",
       "    .dataframe tbody tr th:only-of-type {\n",
       "        vertical-align: middle;\n",
       "    }\n",
       "\n",
       "    .dataframe tbody tr th {\n",
       "        vertical-align: top;\n",
       "    }\n",
       "\n",
       "    .dataframe thead th {\n",
       "        text-align: right;\n",
       "    }\n",
       "</style>\n",
       "<table border=\"1\" class=\"dataframe\">\n",
       "  <thead>\n",
       "    <tr style=\"text-align: right;\">\n",
       "      <th></th>\n",
       "      <th>user_id</th>\n",
       "      <th>date</th>\n",
       "      <th>app_name</th>\n",
       "      <th>category</th>\n",
       "      <th>screen_time_min</th>\n",
       "      <th>launches</th>\n",
       "      <th>interactions</th>\n",
       "      <th>is_productive</th>\n",
       "      <th>youtube_views</th>\n",
       "      <th>youtube_likes</th>\n",
       "      <th>youtube_comments</th>\n",
       "      <th>date_only</th>\n",
       "      <th>time_only</th>\n",
       "    </tr>\n",
       "  </thead>\n",
       "  <tbody>\n",
       "    <tr>\n",
       "      <th>count</th>\n",
       "      <td>3000.000000</td>\n",
       "      <td>3000</td>\n",
       "      <td>3000</td>\n",
       "      <td>3000</td>\n",
       "      <td>3000.000000</td>\n",
       "      <td>3000.000000</td>\n",
       "      <td>3000.000000</td>\n",
       "      <td>3000</td>\n",
       "      <td>142.000000</td>\n",
       "      <td>142.000000</td>\n",
       "      <td>142.000000</td>\n",
       "      <td>3000</td>\n",
       "      <td>3000</td>\n",
       "    </tr>\n",
       "    <tr>\n",
       "      <th>unique</th>\n",
       "      <td>NaN</td>\n",
       "      <td>NaN</td>\n",
       "      <td>20</td>\n",
       "      <td>4</td>\n",
       "      <td>NaN</td>\n",
       "      <td>NaN</td>\n",
       "      <td>NaN</td>\n",
       "      <td>2</td>\n",
       "      <td>NaN</td>\n",
       "      <td>NaN</td>\n",
       "      <td>NaN</td>\n",
       "      <td>92</td>\n",
       "      <td>2999</td>\n",
       "    </tr>\n",
       "    <tr>\n",
       "      <th>top</th>\n",
       "      <td>NaN</td>\n",
       "      <td>NaN</td>\n",
       "      <td>Chrome</td>\n",
       "      <td>Social</td>\n",
       "      <td>NaN</td>\n",
       "      <td>NaN</td>\n",
       "      <td>NaN</td>\n",
       "      <td>False</td>\n",
       "      <td>NaN</td>\n",
       "      <td>NaN</td>\n",
       "      <td>NaN</td>\n",
       "      <td>2024-01-01</td>\n",
       "      <td>00:00:00</td>\n",
       "    </tr>\n",
       "    <tr>\n",
       "      <th>freq</th>\n",
       "      <td>NaN</td>\n",
       "      <td>NaN</td>\n",
       "      <td>172</td>\n",
       "      <td>763</td>\n",
       "      <td>NaN</td>\n",
       "      <td>NaN</td>\n",
       "      <td>NaN</td>\n",
       "      <td>2247</td>\n",
       "      <td>NaN</td>\n",
       "      <td>NaN</td>\n",
       "      <td>NaN</td>\n",
       "      <td>33</td>\n",
       "      <td>2</td>\n",
       "    </tr>\n",
       "    <tr>\n",
       "      <th>mean</th>\n",
       "      <td>1049.800667</td>\n",
       "      <td>2024-02-15 12:00:00</td>\n",
       "      <td>NaN</td>\n",
       "      <td>NaN</td>\n",
       "      <td>29.902057</td>\n",
       "      <td>1.993333</td>\n",
       "      <td>4.962000</td>\n",
       "      <td>NaN</td>\n",
       "      <td>256577.183099</td>\n",
       "      <td>14645.267606</td>\n",
       "      <td>2695.563380</td>\n",
       "      <td>NaN</td>\n",
       "      <td>NaN</td>\n",
       "    </tr>\n",
       "    <tr>\n",
       "      <th>min</th>\n",
       "      <td>1000.000000</td>\n",
       "      <td>2024-01-01 00:00:00</td>\n",
       "      <td>NaN</td>\n",
       "      <td>NaN</td>\n",
       "      <td>0.010000</td>\n",
       "      <td>0.000000</td>\n",
       "      <td>0.000000</td>\n",
       "      <td>NaN</td>\n",
       "      <td>1738.000000</td>\n",
       "      <td>69.000000</td>\n",
       "      <td>8.000000</td>\n",
       "      <td>NaN</td>\n",
       "      <td>NaN</td>\n",
       "    </tr>\n",
       "    <tr>\n",
       "      <th>25%</th>\n",
       "      <td>1024.000000</td>\n",
       "      <td>2024-01-23 18:00:00</td>\n",
       "      <td>NaN</td>\n",
       "      <td>NaN</td>\n",
       "      <td>8.617500</td>\n",
       "      <td>1.000000</td>\n",
       "      <td>3.000000</td>\n",
       "      <td>NaN</td>\n",
       "      <td>141490.000000</td>\n",
       "      <td>6548.250000</td>\n",
       "      <td>957.750000</td>\n",
       "      <td>NaN</td>\n",
       "      <td>NaN</td>\n",
       "    </tr>\n",
       "    <tr>\n",
       "      <th>50%</th>\n",
       "      <td>1049.000000</td>\n",
       "      <td>2024-02-15 12:00:00</td>\n",
       "      <td>NaN</td>\n",
       "      <td>NaN</td>\n",
       "      <td>20.585000</td>\n",
       "      <td>2.000000</td>\n",
       "      <td>5.000000</td>\n",
       "      <td>NaN</td>\n",
       "      <td>249747.000000</td>\n",
       "      <td>12928.500000</td>\n",
       "      <td>2325.500000</td>\n",
       "      <td>NaN</td>\n",
       "      <td>NaN</td>\n",
       "    </tr>\n",
       "    <tr>\n",
       "      <th>75%</th>\n",
       "      <td>1076.000000</td>\n",
       "      <td>2024-03-09 06:00:00</td>\n",
       "      <td>NaN</td>\n",
       "      <td>NaN</td>\n",
       "      <td>40.415000</td>\n",
       "      <td>3.000000</td>\n",
       "      <td>6.000000</td>\n",
       "      <td>NaN</td>\n",
       "      <td>364498.000000</td>\n",
       "      <td>19929.000000</td>\n",
       "      <td>3671.500000</td>\n",
       "      <td>NaN</td>\n",
       "      <td>NaN</td>\n",
       "    </tr>\n",
       "    <tr>\n",
       "      <th>max</th>\n",
       "      <td>1100.000000</td>\n",
       "      <td>2024-04-01 00:00:00</td>\n",
       "      <td>NaN</td>\n",
       "      <td>NaN</td>\n",
       "      <td>218.390000</td>\n",
       "      <td>9.000000</td>\n",
       "      <td>13.000000</td>\n",
       "      <td>NaN</td>\n",
       "      <td>494839.000000</td>\n",
       "      <td>43893.000000</td>\n",
       "      <td>8934.000000</td>\n",
       "      <td>NaN</td>\n",
       "      <td>NaN</td>\n",
       "    </tr>\n",
       "    <tr>\n",
       "      <th>std</th>\n",
       "      <td>29.406369</td>\n",
       "      <td>NaN</td>\n",
       "      <td>NaN</td>\n",
       "      <td>NaN</td>\n",
       "      <td>30.561599</td>\n",
       "      <td>1.403547</td>\n",
       "      <td>2.223257</td>\n",
       "      <td>NaN</td>\n",
       "      <td>135872.940749</td>\n",
       "      <td>10511.930022</td>\n",
       "      <td>2147.688995</td>\n",
       "      <td>NaN</td>\n",
       "      <td>NaN</td>\n",
       "    </tr>\n",
       "  </tbody>\n",
       "</table>\n",
       "</div>"
      ],
      "text/plain": [
       "            user_id                 date app_name category  screen_time_min  \\\n",
       "count   3000.000000                 3000     3000     3000      3000.000000   \n",
       "unique          NaN                  NaN       20        4              NaN   \n",
       "top             NaN                  NaN   Chrome   Social              NaN   \n",
       "freq            NaN                  NaN      172      763              NaN   \n",
       "mean    1049.800667  2024-02-15 12:00:00      NaN      NaN        29.902057   \n",
       "min     1000.000000  2024-01-01 00:00:00      NaN      NaN         0.010000   \n",
       "25%     1024.000000  2024-01-23 18:00:00      NaN      NaN         8.617500   \n",
       "50%     1049.000000  2024-02-15 12:00:00      NaN      NaN        20.585000   \n",
       "75%     1076.000000  2024-03-09 06:00:00      NaN      NaN        40.415000   \n",
       "max     1100.000000  2024-04-01 00:00:00      NaN      NaN       218.390000   \n",
       "std       29.406369                  NaN      NaN      NaN        30.561599   \n",
       "\n",
       "           launches  interactions is_productive  youtube_views  youtube_likes  \\\n",
       "count   3000.000000   3000.000000          3000     142.000000     142.000000   \n",
       "unique          NaN           NaN             2            NaN            NaN   \n",
       "top             NaN           NaN         False            NaN            NaN   \n",
       "freq            NaN           NaN          2247            NaN            NaN   \n",
       "mean       1.993333      4.962000           NaN  256577.183099   14645.267606   \n",
       "min        0.000000      0.000000           NaN    1738.000000      69.000000   \n",
       "25%        1.000000      3.000000           NaN  141490.000000    6548.250000   \n",
       "50%        2.000000      5.000000           NaN  249747.000000   12928.500000   \n",
       "75%        3.000000      6.000000           NaN  364498.000000   19929.000000   \n",
       "max        9.000000     13.000000           NaN  494839.000000   43893.000000   \n",
       "std        1.403547      2.223257           NaN  135872.940749   10511.930022   \n",
       "\n",
       "        youtube_comments   date_only time_only  \n",
       "count         142.000000        3000      3000  \n",
       "unique               NaN          92      2999  \n",
       "top                  NaN  2024-01-01  00:00:00  \n",
       "freq                 NaN          33         2  \n",
       "mean         2695.563380         NaN       NaN  \n",
       "min             8.000000         NaN       NaN  \n",
       "25%           957.750000         NaN       NaN  \n",
       "50%          2325.500000         NaN       NaN  \n",
       "75%          3671.500000         NaN       NaN  \n",
       "max          8934.000000         NaN       NaN  \n",
       "std          2147.688995         NaN       NaN  "
      ]
     },
     "execution_count": 9,
     "metadata": {},
     "output_type": "execute_result"
    }
   ],
   "source": [
    "# check statistical analysis for all columns\n",
    "df.describe(include=\"all\")"
   ]
  },
  {
   "cell_type": "code",
   "execution_count": 10,
   "id": "7d843066",
   "metadata": {},
   "outputs": [
    {
     "name": "stdout",
     "output_type": "stream",
     "text": [
      "<class 'pandas.core.frame.DataFrame'>\n",
      "RangeIndex: 3000 entries, 0 to 2999\n",
      "Data columns (total 13 columns):\n",
      " #   Column            Non-Null Count  Dtype         \n",
      "---  ------            --------------  -----         \n",
      " 0   user_id           3000 non-null   int64         \n",
      " 1   date              3000 non-null   datetime64[ns]\n",
      " 2   app_name          3000 non-null   object        \n",
      " 3   category          3000 non-null   object        \n",
      " 4   screen_time_min   3000 non-null   float64       \n",
      " 5   launches          3000 non-null   int64         \n",
      " 6   interactions      3000 non-null   int64         \n",
      " 7   is_productive     3000 non-null   bool          \n",
      " 8   youtube_views     142 non-null    float64       \n",
      " 9   youtube_likes     142 non-null    float64       \n",
      " 10  youtube_comments  142 non-null    float64       \n",
      " 11  date_only         3000 non-null   object        \n",
      " 12  time_only         3000 non-null   object        \n",
      "dtypes: bool(1), datetime64[ns](1), float64(4), int64(3), object(4)\n",
      "memory usage: 284.3+ KB\n",
      "None\n"
     ]
    }
   ],
   "source": [
    "# Check column names and data types\n",
    "print(df.info())"
   ]
  },
  {
   "cell_type": "markdown",
   "id": "6a3659d8",
   "metadata": {},
   "source": [
    "## Data Pre-processing (data wrangling)"
   ]
  },
  {
   "cell_type": "markdown",
   "id": "c4f701fd",
   "metadata": {},
   "source": [
    "HANDLIG MISSING VALUES"
   ]
  },
  {
   "cell_type": "code",
   "execution_count": 11,
   "id": "435f2d0d",
   "metadata": {},
   "outputs": [
    {
     "name": "stdout",
     "output_type": "stream",
     "text": [
      "user_id                0\n",
      "date                   0\n",
      "app_name               0\n",
      "category               0\n",
      "screen_time_min        0\n",
      "launches               0\n",
      "interactions           0\n",
      "is_productive          0\n",
      "youtube_views       2858\n",
      "youtube_likes       2858\n",
      "youtube_comments    2858\n",
      "date_only              0\n",
      "time_only              0\n",
      "dtype: int64\n"
     ]
    }
   ],
   "source": [
    "# check which rows have missing values\n",
    "print(df.isnull().sum())"
   ]
  },
  {
   "cell_type": "markdown",
   "id": "5272225a",
   "metadata": {},
   "source": [
    "the missing values that are in youtube_views, youtube_likes and youtube_comments are logically correct because not all apps are youtube, so there is no need to drop them"
   ]
  },
  {
   "cell_type": "markdown",
   "id": "d5b4c7ab",
   "metadata": {},
   "source": [
    "## EDA"
   ]
  },
  {
   "cell_type": "code",
   "execution_count": 12,
   "id": "3e18614f",
   "metadata": {},
   "outputs": [
    {
     "data": {
      "text/html": [
       "<div>\n",
       "<style scoped>\n",
       "    .dataframe tbody tr th:only-of-type {\n",
       "        vertical-align: middle;\n",
       "    }\n",
       "\n",
       "    .dataframe tbody tr th {\n",
       "        vertical-align: top;\n",
       "    }\n",
       "\n",
       "    .dataframe thead th {\n",
       "        text-align: right;\n",
       "    }\n",
       "</style>\n",
       "<table border=\"1\" class=\"dataframe\">\n",
       "  <thead>\n",
       "    <tr style=\"text-align: right;\">\n",
       "      <th></th>\n",
       "      <th>date_only</th>\n",
       "      <th>app_name</th>\n",
       "      <th>screen_time_min</th>\n",
       "    </tr>\n",
       "  </thead>\n",
       "  <tbody>\n",
       "    <tr>\n",
       "      <th>0</th>\n",
       "      <td>2024-01-01</td>\n",
       "      <td>Camera</td>\n",
       "      <td>94.63</td>\n",
       "    </tr>\n",
       "    <tr>\n",
       "      <th>1</th>\n",
       "      <td>2024-01-01</td>\n",
       "      <td>Chrome</td>\n",
       "      <td>104.93</td>\n",
       "    </tr>\n",
       "    <tr>\n",
       "      <th>2</th>\n",
       "      <td>2024-01-01</td>\n",
       "      <td>Gmail</td>\n",
       "      <td>50.10</td>\n",
       "    </tr>\n",
       "    <tr>\n",
       "      <th>3</th>\n",
       "      <td>2024-01-01</td>\n",
       "      <td>Google Docs</td>\n",
       "      <td>33.26</td>\n",
       "    </tr>\n",
       "    <tr>\n",
       "      <th>4</th>\n",
       "      <td>2024-01-01</td>\n",
       "      <td>Google Maps</td>\n",
       "      <td>19.10</td>\n",
       "    </tr>\n",
       "  </tbody>\n",
       "</table>\n",
       "</div>"
      ],
      "text/plain": [
       "    date_only     app_name  screen_time_min\n",
       "0  2024-01-01       Camera            94.63\n",
       "1  2024-01-01       Chrome           104.93\n",
       "2  2024-01-01        Gmail            50.10\n",
       "3  2024-01-01  Google Docs            33.26\n",
       "4  2024-01-01  Google Maps            19.10"
      ]
     },
     "execution_count": 12,
     "metadata": {},
     "output_type": "execute_result"
    }
   ],
   "source": [
    "# Aggregate the data\n",
    "\n",
    "#How much time was spent on each app per day\n",
    "daily_totals = df.groupby(['date_only', 'app_name'])['screen_time_min'].sum().reset_index()\n",
    "\n",
    "daily_totals.head()"
   ]
  },
  {
   "cell_type": "code",
   "execution_count": 13,
   "id": "c3511afe",
   "metadata": {},
   "outputs": [
    {
     "data": {
      "text/html": [
       "<div>\n",
       "<style scoped>\n",
       "    .dataframe tbody tr th:only-of-type {\n",
       "        vertical-align: middle;\n",
       "    }\n",
       "\n",
       "    .dataframe tbody tr th {\n",
       "        vertical-align: top;\n",
       "    }\n",
       "\n",
       "    .dataframe thead th {\n",
       "        text-align: right;\n",
       "    }\n",
       "</style>\n",
       "<table border=\"1\" class=\"dataframe\">\n",
       "  <thead>\n",
       "    <tr style=\"text-align: right;\">\n",
       "      <th></th>\n",
       "      <th>user_id</th>\n",
       "      <th>date_only</th>\n",
       "      <th>screen_time_min</th>\n",
       "    </tr>\n",
       "  </thead>\n",
       "  <tbody>\n",
       "    <tr>\n",
       "      <th>0</th>\n",
       "      <td>1000</td>\n",
       "      <td>2024-01-02</td>\n",
       "      <td>13.04</td>\n",
       "    </tr>\n",
       "    <tr>\n",
       "      <th>1</th>\n",
       "      <td>1000</td>\n",
       "      <td>2024-01-05</td>\n",
       "      <td>90.65</td>\n",
       "    </tr>\n",
       "    <tr>\n",
       "      <th>2</th>\n",
       "      <td>1000</td>\n",
       "      <td>2024-01-06</td>\n",
       "      <td>1.76</td>\n",
       "    </tr>\n",
       "    <tr>\n",
       "      <th>3</th>\n",
       "      <td>1000</td>\n",
       "      <td>2024-01-11</td>\n",
       "      <td>15.95</td>\n",
       "    </tr>\n",
       "    <tr>\n",
       "      <th>4</th>\n",
       "      <td>1000</td>\n",
       "      <td>2024-01-12</td>\n",
       "      <td>2.78</td>\n",
       "    </tr>\n",
       "  </tbody>\n",
       "</table>\n",
       "</div>"
      ],
      "text/plain": [
       "   user_id   date_only  screen_time_min\n",
       "0     1000  2024-01-02            13.04\n",
       "1     1000  2024-01-05            90.65\n",
       "2     1000  2024-01-06             1.76\n",
       "3     1000  2024-01-11            15.95\n",
       "4     1000  2024-01-12             2.78"
      ]
     },
     "execution_count": 13,
     "metadata": {},
     "output_type": "execute_result"
    }
   ],
   "source": [
    "# what does a typical user's usage look like?\n",
    "user_totals = df.groupby(['user_id', 'date_only'])['screen_time_min'].sum().reset_index()\n",
    "user_totals.head()"
   ]
  },
  {
   "cell_type": "markdown",
   "id": "4e6963df",
   "metadata": {},
   "source": [
    "### Question 1\n",
    "how much time to people spend on Apps?"
   ]
  },
  {
   "cell_type": "code",
   "execution_count": 14,
   "id": "6238a0a5",
   "metadata": {},
   "outputs": [
    {
     "data": {
      "text/plain": [
       "app_name\n",
       "Notion             33.742047\n",
       "YouTube            33.384507\n",
       "Twitter            33.030000\n",
       "WhatsApp           32.778408\n",
       "Spotify            32.552453\n",
       "Google Maps        31.771156\n",
       "Microsoft Teams    31.625600\n",
       "Snapchat           31.578581\n",
       "Twitch             31.036879\n",
       "Facebook           29.804286\n",
       "Camera             29.309437\n",
       "Weather            29.115000\n",
       "Slack              29.013106\n",
       "Chrome             28.349012\n",
       "Instagram          28.315106\n",
       "Evernote           27.598497\n",
       "TikTok             27.428750\n",
       "Google Docs        26.915679\n",
       "Gmail              26.328049\n",
       "Netflix            25.504340\n",
       "Name: screen_time_min, dtype: float64"
      ]
     },
     "execution_count": 14,
     "metadata": {},
     "output_type": "execute_result"
    }
   ],
   "source": [
    "df.groupby('app_name')['screen_time_min'].mean().sort_values(ascending=False)"
   ]
  },
  {
   "cell_type": "code",
   "execution_count": 15,
   "id": "d31fe489",
   "metadata": {},
   "outputs": [
    {
     "data": {
      "text/plain": [
       "<bound method IndexOpsMixin.value_counts of 0                Camera\n",
       "1                Chrome\n",
       "2               Spotify\n",
       "3           Google Maps\n",
       "4             Instagram\n",
       "             ...       \n",
       "2995             Camera\n",
       "2996            Netflix\n",
       "2997    Microsoft Teams\n",
       "2998           WhatsApp\n",
       "2999              Gmail\n",
       "Name: app_name, Length: 3000, dtype: object>"
      ]
     },
     "execution_count": 15,
     "metadata": {},
     "output_type": "execute_result"
    }
   ],
   "source": [
    "df[\"app_name\"].value_counts"
   ]
  },
  {
   "cell_type": "code",
   "execution_count": 16,
   "id": "dce54656",
   "metadata": {},
   "outputs": [
    {
     "data": {
      "image/png": "[encoded data removed]",
      "text/plain": [
       "<Figure size 1200x600 with 1 Axes>"
      ]
     },
     "metadata": {},
     "output_type": "display_data"
    }
   ],
   "source": [
    "plt.figure(figsize=(12,6))  \n",
    "sns.countplot(data=df, x='app_name', order=df['app_name'].value_counts().index)\n",
    "\n",
    "plt.xticks(rotation=45)  # rotate x labels for readability\n",
    "plt.title('Number of Records per App')\n",
    "plt.show()"
   ]
  },
  {
   "cell_type": "markdown",
   "id": "046c446f",
   "metadata": {},
   "source": [
    "## Data Visualization\n",
    "* A. Visualize trends in screen time by app category\n",
    "* B. Identify peak usage times across different apps\n",
    "* C.Analyze correlation between productivty and entermaiment\n",
    "* D. Explore Youtube user engagement"
   ]
  },
  {
   "cell_type": "markdown",
   "id": "38d33db9",
   "metadata": {},
   "source": [
    "### A visualize trends in screen time by app category"
   ]
  },
  {
   "cell_type": "code",
   "execution_count": 17,
   "id": "78e48cf8",
   "metadata": {},
   "outputs": [
    {
     "data": {
      "text/html": [
       "<div>\n",
       "<style scoped>\n",
       "    .dataframe tbody tr th:only-of-type {\n",
       "        vertical-align: middle;\n",
       "    }\n",
       "\n",
       "    .dataframe tbody tr th {\n",
       "        vertical-align: top;\n",
       "    }\n",
       "\n",
       "    .dataframe thead th {\n",
       "        text-align: right;\n",
       "    }\n",
       "</style>\n",
       "<table border=\"1\" class=\"dataframe\">\n",
       "  <thead>\n",
       "    <tr style=\"text-align: right;\">\n",
       "      <th></th>\n",
       "      <th>date_only</th>\n",
       "      <th>category</th>\n",
       "      <th>screen_time_min</th>\n",
       "    </tr>\n",
       "  </thead>\n",
       "  <tbody>\n",
       "    <tr>\n",
       "      <th>0</th>\n",
       "      <td>2024-01-01</td>\n",
       "      <td>Entertainment</td>\n",
       "      <td>57.90</td>\n",
       "    </tr>\n",
       "    <tr>\n",
       "      <th>1</th>\n",
       "      <td>2024-01-01</td>\n",
       "      <td>Productivity</td>\n",
       "      <td>133.06</td>\n",
       "    </tr>\n",
       "    <tr>\n",
       "      <th>2</th>\n",
       "      <td>2024-01-01</td>\n",
       "      <td>Social</td>\n",
       "      <td>472.95</td>\n",
       "    </tr>\n",
       "    <tr>\n",
       "      <th>3</th>\n",
       "      <td>2024-01-01</td>\n",
       "      <td>Utilities</td>\n",
       "      <td>269.12</td>\n",
       "    </tr>\n",
       "    <tr>\n",
       "      <th>4</th>\n",
       "      <td>2024-01-02</td>\n",
       "      <td>Entertainment</td>\n",
       "      <td>162.31</td>\n",
       "    </tr>\n",
       "  </tbody>\n",
       "</table>\n",
       "</div>"
      ],
      "text/plain": [
       "    date_only       category  screen_time_min\n",
       "0  2024-01-01  Entertainment            57.90\n",
       "1  2024-01-01   Productivity           133.06\n",
       "2  2024-01-01         Social           472.95\n",
       "3  2024-01-01      Utilities           269.12\n",
       "4  2024-01-02  Entertainment           162.31"
      ]
     },
     "execution_count": 17,
     "metadata": {},
     "output_type": "execute_result"
    }
   ],
   "source": [
    "# Aggregate total screen time per category per day\n",
    "daily_category = df.groupby(['date_only', 'category'])['screen_time_min'].sum().reset_index()\n",
    "\n",
    "daily_category.head()"
   ]
  },
  {
   "cell_type": "code",
   "execution_count": 18,
   "id": "626929ac",
   "metadata": {},
   "outputs": [
    {
     "data": {
      "image/png": "[encoded data removed]",
      "text/plain": [
       "<Figure size 1400x600 with 1 Axes>"
      ]
     },
     "metadata": {},
     "output_type": "display_data"
    }
   ],
   "source": [
    "# Plot\n",
    "plt.figure(figsize=(14, 6))\n",
    "sns.lineplot(data=daily_category, x='date_only', y='screen_time_min', hue='category')\n",
    "\n",
    "plt.title('Daily Screen Time by App Category')\n",
    "plt.xlabel('Date')\n",
    "plt.ylabel('Total Screen Time (minutes)')\n",
    "plt.xticks(rotation=45)\n",
    "plt.tight_layout()\n",
    "plt.show()\n"
   ]
  },
  {
   "cell_type": "markdown",
   "id": "0469dc7e",
   "metadata": {},
   "source": [
    "Observations:\n",
    "* social category dominates user usage, it peaks multiple times and it does not drop to drastically. it does however drop during the week and goes up on a friday, maybe until a monday\n",
    "* productivity is the least used. But it does rise when social drops and it drops when social rises (check for the relationships), it stays risen during the week then drops from a Friday\n",
    "* One may assume that entertainment and social category may have the same trends, but this line plot shows otherwise their usages are not correlated at all (check for relationship). so much so that between March 2 to March 10 where entertainment peaks social drops drastically\n",
    "* Utility drastically drops in April 1"
   ]
  },
  {
   "cell_type": "code",
   "execution_count": 19,
   "id": "f632cef8",
   "metadata": {},
   "outputs": [
    {
     "data": {
      "application/vnd.plotly.v1+json": {
       "config": {
        "plotlyServerURL": "https://plot.ly"
       },
       "data": [
        {
         "hovertemplate": "Category=Entertainment<br>Date=%{x}<br>Total Screen Time (minutes)=%{y}<extra></extra>",
         "legendgroup": "Entertainment",
         "line": {
          "color": "#636efa",
          "dash": "solid"
         },
         "marker": {
          "symbol": "circle"
         },
         "mode": "lines",
         "name": "Entertainment",
         "orientation": "v",
         "showlegend": true,
         "type": "scatter",
         "x": [
          "2024-01-01",
          "2024-01-02",
          "2024-01-03",
          "2024-01-04",
          "2024-01-05",
          "2024-01-06",
          "2024-01-07",
          "2024-01-08",
          "2024-01-09",
          "2024-01-10",
          "2024-01-11",
          "2024-01-12",
          "2024-01-13",
          "2024-01-14",
          "2024-01-15",
          "2024-01-16",
          "2024-01-17",
          "2024-01-18",
          "2024-01-19",
          "2024-01-20",
          "2024-01-21",
          "2024-01-22",
          "2024-01-23",
          "2024-01-24",
          "2024-01-25",
          "2024-01-26",
          "2024-01-27",
          "2024-01-28",
          "2024-01-29",
          "2024-01-30",
          "2024-01-31",
          "2024-02-01",
          "2024-02-02",
          "2024-02-03",
          "2024-02-04",
          "2024-02-05",
          "2024-02-06",
          "2024-02-07",
          "2024-02-08",
          "2024-02-09",
          "2024-02-10",
          "2024-02-11",
          "2024-02-12",
          "2024-02-13",
          "2024-02-14",
          "2024-02-15",
          "2024-02-16",
          "2024-02-17",
          "2024-02-18",
          "2024-02-19",
          "2024-02-20",
          "2024-02-21",
          "2024-02-22",
          "2024-02-23",
          "2024-02-24",
          "2024-02-25",
          "2024-02-26",
          "2024-02-27",
          "2024-02-28",
          "2024-02-29",
          "2024-03-01",
          "2024-03-02",
          "2024-03-03",
          "2024-03-04",
          "2024-03-05",
          "2024-03-06",
          "2024-03-07",
          "2024-03-08",
          "2024-03-09",
          "2024-03-10",
          "2024-03-11",
          "2024-03-12",
          "2024-03-13",
          "2024-03-14",
          "2024-03-15",
          "2024-03-16",
          "2024-03-17",
          "2024-03-18",
          "2024-03-19",
          "2024-03-20",
          "2024-03-21",
          "2024-03-22",
          "2024-03-23",
          "2024-03-24",
          "2024-03-25",
          "2024-03-26",
          "2024-03-27",
          "2024-03-28",
          "2024-03-29",
          "2024-03-30",
          "2024-03-31"
         ],
         "xaxis": "x",
         "y": {
          "bdata": "MzMzMzPzTEBSuB6F60lkQArXo3A9ymRAH4XrUbgOW0AUrkfhekB0QArXo3A9mmZAAAAAAAAAZkAfhetRuF5UQClcj8L1aENAKVyPwvUQeUAUrkfherRuQGZmZmZmsnFA16NwPQorcUCQwvUoXA9sQD0K16NwJWNA16NwPQofYEA9CtejcNVqQD4K16NwtXJAPgrXo3ANckBcj8L1KOB5QBSuR+F6PGhAuB6F61EEc0DNzMzMzIxdQAAAAAAAeGFAj8L1KFzvd0CkcD0K15t8QF2PwvUoPGdAexSuR+FKdkCF61G4HiF9QOF6FK5H2WpA4XoUrkdxakDD9Shcjx5yQMzMzMzMTEtAzczMzMxsakApXI/C9XxxQK5H4XoUBm1A16NwPQodgEDNzMzMzIxgQLgehetRyGtAMzMzMzOHcEDsUbgehXd0QEjhehSu72VA7FG4HoVndEBI4XoUridiQIXrUbgeNVFAFK5H4Xpsc0CuR+F6FBZoQD4K16NwXWJAhetRuB6ta0B7FK5H4d5zQGZmZmZm7mpAUrgehesRWUAzMzMzM/NqQML1KFyPlnxAw/UoXI8Cb0AAAAAAAAhwQDQzMzMzS2xAKVyPwvUEc0C5HoXrURhLQOF6FK5HQWxACtejcD02eEBI4XoUrv9uQFyPwvUoAINAMzMzMzOLa0AehetRuB5FQLgehetRAHtA2KNwPQpffkBxPQrXoxRwQPYoXI/CFWZAKVyPwvWQZUCkcD0K12tuQNejcD0K/3ZAH4XrUbjuWkDrUbgehTtZQFK4HoXrmWFApHA9Cte7ZECuR+F6FG5mQK5H4XoUDnNAPQrXo3AtX0CuR+F6FL5kQGZmZmZmJnhAZmZmZmbuZ0C4HoXrUShrQArXo3A96mpAMzMzMzPDaEDXo3A9CgtzQClcj8L1yHZAKVyPwvXgZkDhehSuR0VzQClcj8L1WF5AhetRuB6Fe0A=",
          "dtype": "f8"
         },
         "yaxis": "y"
        },
        {
         "hovertemplate": "Category=Productivity<br>Date=%{x}<br>Total Screen Time (minutes)=%{y}<extra></extra>",
         "legendgroup": "Productivity",
         "line": {
          "color": "#EF553B",
          "dash": "solid"
         },
         "marker": {
          "symbol": "circle"
         },
         "mode": "lines",
         "name": "Productivity",
         "orientation": "v",
         "showlegend": true,
         "type": "scatter",
         "x": [
          "2024-01-01",
          "2024-01-02",
          "2024-01-03",
          "2024-01-04",
          "2024-01-05",
          "2024-01-06",
          "2024-01-07",
          "2024-01-08",
          "2024-01-09",
          "2024-01-10",
          "2024-01-11",
          "2024-01-12",
          "2024-01-13",
          "2024-01-14",
          "2024-01-15",
          "2024-01-16",
          "2024-01-17",
          "2024-01-18",
          "2024-01-19",
          "2024-01-20",
          "2024-01-21",
          "2024-01-22",
          "2024-01-23",
          "2024-01-24",
          "2024-01-25",
          "2024-01-26",
          "2024-01-27",
          "2024-01-28",
          "2024-01-29",
          "2024-01-30",
          "2024-01-31",
          "2024-02-01",
          "2024-02-02",
          "2024-02-03",
          "2024-02-04",
          "2024-02-05",
          "2024-02-06",
          "2024-02-07",
          "2024-02-08",
          "2024-02-09",
          "2024-02-10",
          "2024-02-11",
          "2024-02-12",
          "2024-02-13",
          "2024-02-14",
          "2024-02-15",
          "2024-02-16",
          "2024-02-17",
          "2024-02-18",
          "2024-02-19",
          "2024-02-20",
          "2024-02-21",
          "2024-02-22",
          "2024-02-23",
          "2024-02-24",
          "2024-02-25",
          "2024-02-26",
          "2024-02-27",
          "2024-02-28",
          "2024-02-29",
          "2024-03-01",
          "2024-03-02",
          "2024-03-03",
          "2024-03-04",
          "2024-03-05",
          "2024-03-06",
          "2024-03-07",
          "2024-03-08",
          "2024-03-09",
          "2024-03-10",
          "2024-03-11",
          "2024-03-12",
          "2024-03-13",
          "2024-03-14",
          "2024-03-15",
          "2024-03-16",
          "2024-03-17",
          "2024-03-18",
          "2024-03-19",
          "2024-03-20",
          "2024-03-21",
          "2024-03-22",
          "2024-03-23",
          "2024-03-24",
          "2024-03-25",
          "2024-03-26",
          "2024-03-27",
          "2024-03-28",
          "2024-03-29",
          "2024-03-30",
          "2024-03-31"
         ],
         "xaxis": "x",
         "y": {
          "bdata": "UrgeheuhYECF61G4HuVOQD0K16Nw/VZAH4XrUbgua0CamZmZmZleQK5H4XoUfl9A16NwPQrHdUApXI/C9QhsQOxRuB6FP3VAZmZmZmaudUCamZmZmblxQArXo3A9Gl9AXI/C9Si8ckA9CtejcDVpQEfhehSuB2hAUrgeheuxWkAAAAAAAAhtQArXo3A9qmFAMzMzMzMTeEAK16NwPYZ+QLgehetROFxAzMzMzMxsXECkcD0K12dyQBSuR+F6dGhAzczMzMwcekB7FK5H4dZ6QKRwPQrXB3NAj8L1KFwvV0BxPQrXo7BYQDQzMzMzI29ASOF6FK4nZ0BSuB6F67FrQIXrUbgeqXVANDMzMzPjaUBSuB6F6/lgQD4K16Nw+XVAw/UoXI8mgEDD9Shcj/ZwQML1KFyPcmJAUrgehevBdEDXo3A9CudqQOF6FK5HSWtA4XoUrkengEB7FK5H4QpnQB+F61G4VmdACtejcD2CZkDD9Shcj9psQMzMzMzMBGBArkfhehROaEBI4XoUrvtzQM3MzMzMLHtA4XoUrkdhYEBxPQrXo9BgQPUoXI/CJVtAMzMzMzPTaUBdj8L1KGRtQPYoXI/ChW9AAAAAAABAYUCuR+F6FHJxQOF6FK5HJXtA16NwPQpXYEBmZmZmZpZ1QHA9CtejoGdAMzMzMzNPe0C5HoXrUfR8QD0K16NwSXlApHA9CtfLb0D2KFyPwll5QML1KFyPlnJA16NwPQrndkAK16NwPVJlQML1KFyPwm5A16NwPQoXd0AfhetRuEZsQJqZmZmZ8W1A9ihcj8I1NkApXI/C9TBmQF2PwvUobG5AXI/C9Sg0bEAzMzMzM+NqQM3MzMzM/HNAmpmZmZkJUUBcj8L1KJxeQFyPwvUopGdAH4XrUbj+WUDhehSuR5V4QB+F61G4zndAUrgeheu1cEDC9Shcj6Z3QNejcD0KJ21A9ihcj8LlY0A=",
          "dtype": "f8"
         },
         "yaxis": "y"
        },
        {
         "hovertemplate": "Category=Social<br>Date=%{x}<br>Total Screen Time (minutes)=%{y}<extra></extra>",
         "legendgroup": "Social",
         "line": {
          "color": "#00cc96",
          "dash": "solid"
         },
         "marker": {
          "symbol": "circle"
         },
         "mode": "lines",
         "name": "Social",
         "orientation": "v",
         "showlegend": true,
         "type": "scatter",
         "x": [
          "2024-01-01",
          "2024-01-02",
          "2024-01-03",
          "2024-01-04",
          "2024-01-05",
          "2024-01-06",
          "2024-01-07",
          "2024-01-08",
          "2024-01-09",
          "2024-01-10",
          "2024-01-11",
          "2024-01-12",
          "2024-01-13",
          "2024-01-14",
          "2024-01-15",
          "2024-01-16",
          "2024-01-17",
          "2024-01-18",
          "2024-01-19",
          "2024-01-20",
          "2024-01-21",
          "2024-01-22",
          "2024-01-23",
          "2024-01-24",
          "2024-01-25",
          "2024-01-26",
          "2024-01-27",
          "2024-01-28",
          "2024-01-29",
          "2024-01-30",
          "2024-01-31",
          "2024-02-01",
          "2024-02-02",
          "2024-02-03",
          "2024-02-04",
          "2024-02-05",
          "2024-02-06",
          "2024-02-07",
          "2024-02-08",
          "2024-02-09",
          "2024-02-10",
          "2024-02-11",
          "2024-02-12",
          "2024-02-13",
          "2024-02-14",
          "2024-02-15",
          "2024-02-16",
          "2024-02-17",
          "2024-02-18",
          "2024-02-19",
          "2024-02-20",
          "2024-02-21",
          "2024-02-22",
          "2024-02-23",
          "2024-02-24",
          "2024-02-25",
          "2024-02-26",
          "2024-02-27",
          "2024-02-28",
          "2024-02-29",
          "2024-03-01",
          "2024-03-02",
          "2024-03-03",
          "2024-03-04",
          "2024-03-05",
          "2024-03-06",
          "2024-03-07",
          "2024-03-08",
          "2024-03-09",
          "2024-03-10",
          "2024-03-11",
          "2024-03-12",
          "2024-03-13",
          "2024-03-14",
          "2024-03-15",
          "2024-03-16",
          "2024-03-17",
          "2024-03-18",
          "2024-03-19",
          "2024-03-20",
          "2024-03-21",
          "2024-03-22",
          "2024-03-23",
          "2024-03-24",
          "2024-03-25",
          "2024-03-26",
          "2024-03-27",
          "2024-03-28",
          "2024-03-29",
          "2024-03-30",
          "2024-03-31"
         ],
         "xaxis": "x",
         "y": {
          "bdata": "MzMzMzOPfUBcj8L1KBRnQHsUrkfhxnJA4XoUrkfRa0Bcj8L1KHRlQI/C9Shcx4FAuB6F61H4ckBcj8L1KOhzQClcj8L1oG5A16NwPQqrg0D2KFyPwsVhQAAAAAAAwGZAUrgehevZb0BI4XoUrqduQAAAAAAALoBArkfhehRugEAfhetRuEZoQKRwPQrX22JAmpmZmZkJZEB7FK5H4epiQNejcD0KS3RA9ihcj8LtZkDXo3A9Cg9jQOF6FK5HuWxAXI/C9ShcXkAfhetRuJ5iQEjhehSuR1tAXI/C9Sj8TkBcj8L1KPRnQChcj8L16FZAMzMzMzO3gkBcj8L1KFBxQAAAAAAAAExAexSuR+Eia0B7FK5H4W5wQDMzMzMz229AzczMzMwsZkCuR+F6FJZtQK5H4XoUhmxAZmZmZmZGbEBmZmZmZlZQQAAAAAAAQGFANDMzMzPTWUCuR+F6FOZpQPYoXI/CTW9AhetRuB7VZEApXI/C9XBmQK5H4XoUhoNA7FG4HoV7Y0AzMzMzMxtsQJDC9ShcT3pAPgrXo3DNc0DC9Shcj5JdQOF6FK5HGWJAZmZmZmbGYEBI4XoUrtd7QGdmZmZmnmpAhetRuB6NckC4HoXrUShwQHE9Ctej+HRAUrgeheuhZ0AAAAAAACx0QPYoXI/CfWBACtejcD26Z0DMzMzMzMh5QGZmZmZm9l5AKVyPwvUIZkBxPQrXo6BxQBSuR+F6DGVASOF6FK53c0AL16NwPaJsQOF6FK5H1XZAhetRuB51dUCF61G4HrVyQD0K16NwA4FAmpmZmZkPgUDhehSuR1VwQEjhehSuY3JAw/UoXI9idUDhehSuR3l5QOF6FK5HuXNAUrgehevRbEAAAAAAAGBlQJqZmZmZyXVAj8L1KFwnb0CZmZmZmcFvQEfhehSuZ19AkML1KFxLckD2KFyPwkl4QHsUrkfhqmZACtejcD2mdkA=",
          "dtype": "f8"
         },
         "yaxis": "y"
        },
        {
         "hovertemplate": "Category=Utilities<br>Date=%{x}<br>Total Screen Time (minutes)=%{y}<extra></extra>",
         "legendgroup": "Utilities",
         "line": {
          "color": "#ab63fa",
          "dash": "solid"
         },
         "marker": {
          "symbol": "circle"
         },
         "mode": "lines",
         "name": "Utilities",
         "orientation": "v",
         "showlegend": true,
         "type": "scatter",
         "x": [
          "2024-01-01",
          "2024-01-02",
          "2024-01-03",
          "2024-01-04",
          "2024-01-05",
          "2024-01-06",
          "2024-01-07",
          "2024-01-08",
          "2024-01-09",
          "2024-01-10",
          "2024-01-11",
          "2024-01-12",
          "2024-01-13",
          "2024-01-14",
          "2024-01-15",
          "2024-01-16",
          "2024-01-17",
          "2024-01-18",
          "2024-01-19",
          "2024-01-20",
          "2024-01-21",
          "2024-01-22",
          "2024-01-23",
          "2024-01-24",
          "2024-01-25",
          "2024-01-26",
          "2024-01-27",
          "2024-01-28",
          "2024-01-29",
          "2024-01-30",
          "2024-01-31",
          "2024-02-01",
          "2024-02-02",
          "2024-02-03",
          "2024-02-04",
          "2024-02-05",
          "2024-02-06",
          "2024-02-07",
          "2024-02-08",
          "2024-02-09",
          "2024-02-10",
          "2024-02-11",
          "2024-02-12",
          "2024-02-13",
          "2024-02-14",
          "2024-02-15",
          "2024-02-16",
          "2024-02-17",
          "2024-02-18",
          "2024-02-19",
          "2024-02-20",
          "2024-02-21",
          "2024-02-22",
          "2024-02-23",
          "2024-02-24",
          "2024-02-25",
          "2024-02-26",
          "2024-02-27",
          "2024-02-28",
          "2024-02-29",
          "2024-03-01",
          "2024-03-02",
          "2024-03-03",
          "2024-03-04",
          "2024-03-05",
          "2024-03-06",
          "2024-03-07",
          "2024-03-08",
          "2024-03-09",
          "2024-03-10",
          "2024-03-11",
          "2024-03-12",
          "2024-03-13",
          "2024-03-14",
          "2024-03-15",
          "2024-03-16",
          "2024-03-17",
          "2024-03-18",
          "2024-03-19",
          "2024-03-20",
          "2024-03-21",
          "2024-03-22",
          "2024-03-23",
          "2024-03-24",
          "2024-03-25",
          "2024-03-26",
          "2024-03-27",
          "2024-03-28",
          "2024-03-29",
          "2024-03-30",
          "2024-03-31",
          "2024-04-01"
         ],
         "xaxis": "x",
         "y": {
          "bdata": "UrgehevRcEApXI/C9aByQM3MzMzMfHBAj8L1KFwrckCamZmZmVl3QD4K16Nw1W1ApHA9CteTcUBcj8L1KFR7QGdmZmZmXmhAj8L1KFz/UUB6FK5H4Q57QD0K16NwTW9AhetRuB71WUDXo3A9CkdgQI/C9ShcF2VAXI/C9SjMX0CQwvUoXNd0QGZmZmZmxlVAFa5H4XrUakDNzMzMzMhzQPYoXI/CIXxAmpmZmZn9fEBI4XoUrudXQHsUrkfhtnFAAAAAAAA8dUDXo3A9CldDQKRwPQrXy25AMzMzMzMzaEDMzMzMzCRpQBSuR+F66HFAkML1KFx/cED2KFyPwv1kQBWuR+F6VHZAUrgeheszgkBmZmZmZhZtQFK4HoXrTXRAFK5H4XpUSUCuR+F6FP5aQJDC9Shc13BANDMzMzNTZ0BxPQrXowiAQLgehetRoGlAj8L1KFwXYUBI4XoUrhN4QM3MzMzM5G9ApHA9CtdHcECuR+F6FKpwQBSuR+F6pGdAUbgeheupa0DXo3A9CsdmQOtRuB6FC0pAw/UoXI/aZUD2KFyPwtVuQOJ6FK5HmWlAZmZmZmaic0DsUbgehatZQIXrUbgedVxASOF6FK5bekC4HoXrUbhnQB+F61G4TlRAj8L1KFyPbECkcD0K19NlQGZmZmZmRkhAhetRuB4FYkBI4XoUrjdfQIXrUbge5WRAH4XrUbiua0CkcD0K13d2QIXrUbgenXVAUrgehet5a0AzMzMzM3NjQFyPwvUo3FtA16NwPQpzckAfhetRuPZ2QFK4HoXrcWhAZ2ZmZmbmckDhehSuRxF0QEjhehSu12tAPgrXo3BJe0C4HoXrUShtQEjhehSu11ZAUrgehetldEAAAAAAAJx6QFyPwvUodGhAH4XrUbgGaEDsUbgehW9zQIbrUbge3W5ArkfhehT+VkCPwvUoXO9UQGZmZmZmbnNAhetRuB6NckAAAAAAAIAyQA==",
          "dtype": "f8"
         },
         "yaxis": "y"
        }
       ],
       "layout": {
        "legend": {
         "title": {
          "text": "Category"
         },
         "tracegroupgap": 0
        },
        "template": {
         "data": {
          "bar": [
           {
            "error_x": {
             "color": "#2a3f5f"
            },
            "error_y": {
             "color": "#2a3f5f"
            },
            "marker": {
             "line": {
              "color": "#E5ECF6",
              "width": 0.5
             },
             "pattern": {
              "fillmode": "overlay",
              "size": 10,
              "solidity": 0.2
             }
            },
            "type": "bar"
           }
          ],
          "barpolar": [
           {
            "marker": {
             "line": {
              "color": "#E5ECF6",
              "width": 0.5
             },
             "pattern": {
              "fillmode": "overlay",
              "size": 10,
              "solidity": 0.2
             }
            },
            "type": "barpolar"
           }
          ],
          "carpet": [
           {
            "aaxis": {
             "endlinecolor": "#2a3f5f",
             "gridcolor": "white",
             "linecolor": "white",
             "minorgridcolor": "white",
             "startlinecolor": "#2a3f5f"
            },
            "baxis": {
             "endlinecolor": "#2a3f5f",
             "gridcolor": "white",
             "linecolor": "white",
             "minorgridcolor": "white",
             "startlinecolor": "#2a3f5f"
            },
            "type": "carpet"
           }
          ],
          "choropleth": [
           {
            "colorbar": {
             "outlinewidth": 0,
             "ticks": ""
            },
            "type": "choropleth"
           }
          ],
          "contour": [
           {
            "colorbar": {
             "outlinewidth": 0,
             "ticks": ""
            },
            "colorscale": [
             [
              0,
              "#0d0887"
             ],
             [
              0.1111111111111111,
              "#46039f"
             ],
             [
              0.2222222222222222,
              "#7201a8"
             ],
             [
              0.3333333333333333,
              "#9c179e"
             ],
             [
              0.4444444444444444,
              "#bd3786"
             ],
             [
              0.5555555555555556,
              "#d8576b"
             ],
             [
              0.6666666666666666,
              "#ed7953"
             ],
             [
              0.7777777777777778,
              "#fb9f3a"
             ],
             [
              0.8888888888888888,
              "#fdca26"
             ],
             [
              1,
              "#f0f921"
             ]
            ],
            "type": "contour"
           }
          ],
          "contourcarpet": [
           {
            "colorbar": {
             "outlinewidth": 0,
             "ticks": ""
            },
            "type": "contourcarpet"
           }
          ],
          "heatmap": [
           {
            "colorbar": {
             "outlinewidth": 0,
             "ticks": ""
            },
            "colorscale": [
             [
              0,
              "#0d0887"
             ],
             [
              0.1111111111111111,
              "#46039f"
             ],
             [
              0.2222222222222222,
              "#7201a8"
             ],
             [
              0.3333333333333333,
              "#9c179e"
             ],
             [
              0.4444444444444444,
              "#bd3786"
             ],
             [
              0.5555555555555556,
              "#d8576b"
             ],
             [
              0.6666666666666666,
              "#ed7953"
             ],
             [
              0.7777777777777778,
              "#fb9f3a"
             ],
             [
              0.8888888888888888,
              "#fdca26"
             ],
             [
              1,
              "#f0f921"
             ]
            ],
            "type": "heatmap"
           }
          ],
          "histogram": [
           {
            "marker": {
             "pattern": {
              "fillmode": "overlay",
              "size": 10,
              "solidity": 0.2
             }
            },
            "type": "histogram"
           }
          ],
          "histogram2d": [
           {
            "colorbar": {
             "outlinewidth": 0,
             "ticks": ""
            },
            "colorscale": [
             [
              0,
              "#0d0887"
             ],
             [
              0.1111111111111111,
              "#46039f"
             ],
             [
              0.2222222222222222,
              "#7201a8"
             ],
             [
              0.3333333333333333,
              "#9c179e"
             ],
             [
              0.4444444444444444,
              "#bd3786"
             ],
             [
              0.5555555555555556,
              "#d8576b"
             ],
             [
              0.6666666666666666,
              "#ed7953"
             ],
             [
              0.7777777777777778,
              "#fb9f3a"
             ],
             [
              0.8888888888888888,
              "#fdca26"
             ],
             [
              1,
              "#f0f921"
             ]
            ],
            "type": "histogram2d"
           }
          ],
          "histogram2dcontour": [
           {
            "colorbar": {
             "outlinewidth": 0,
             "ticks": ""
            },
            "colorscale": [
             [
              0,
              "#0d0887"
             ],
             [
              0.1111111111111111,
              "#46039f"
             ],
             [
              0.2222222222222222,
              "#7201a8"
             ],
             [
              0.3333333333333333,
              "#9c179e"
             ],
             [
              0.4444444444444444,
              "#bd3786"
             ],
             [
              0.5555555555555556,
              "#d8576b"
             ],
             [
              0.6666666666666666,
              "#ed7953"
             ],
             [
              0.7777777777777778,
              "#fb9f3a"
             ],
             [
              0.8888888888888888,
              "#fdca26"
             ],
             [
              1,
              "#f0f921"
             ]
            ],
            "type": "histogram2dcontour"
           }
          ],
          "mesh3d": [
           {
            "colorbar": {
             "outlinewidth": 0,
             "ticks": ""
            },
            "type": "mesh3d"
           }
          ],
          "parcoords": [
           {
            "line": {
             "colorbar": {
              "outlinewidth": 0,
              "ticks": ""
             }
            },
            "type": "parcoords"
           }
          ],
          "pie": [
           {
            "automargin": true,
            "type": "pie"
           }
          ],
          "scatter": [
           {
            "fillpattern": {
             "fillmode": "overlay",
             "size": 10,
             "solidity": 0.2
            },
            "type": "scatter"
           }
          ],
          "scatter3d": [
           {
            "line": {
             "colorbar": {
              "outlinewidth": 0,
              "ticks": ""
             }
            },
            "marker": {
             "colorbar": {
              "outlinewidth": 0,
              "ticks": ""
             }
            },
            "type": "scatter3d"
           }
          ],
          "scattercarpet": [
           {
            "marker": {
             "colorbar": {
              "outlinewidth": 0,
              "ticks": ""
             }
            },
            "type": "scattercarpet"
           }
          ],
          "scattergeo": [
           {
            "marker": {
             "colorbar": {
              "outlinewidth": 0,
              "ticks": ""
             }
            },
            "type": "scattergeo"
           }
          ],
          "scattergl": [
           {
            "marker": {
             "colorbar": {
              "outlinewidth": 0,
              "ticks": ""
             }
            },
            "type": "scattergl"
           }
          ],
          "scattermap": [
           {
            "marker": {
             "colorbar": {
              "outlinewidth": 0,
              "ticks": ""
             }
            },
            "type": "scattermap"
           }
          ],
          "scattermapbox": [
           {
            "marker": {
             "colorbar": {
              "outlinewidth": 0,
              "ticks": ""
             }
            },
            "type": "scattermapbox"
           }
          ],
          "scatterpolar": [
           {
            "marker": {
             "colorbar": {
              "outlinewidth": 0,
              "ticks": ""
             }
            },
            "type": "scatterpolar"
           }
          ],
          "scatterpolargl": [
           {
            "marker": {
             "colorbar": {
              "outlinewidth": 0,
              "ticks": ""
             }
            },
            "type": "scatterpolargl"
           }
          ],
          "scatterternary": [
           {
            "marker": {
             "colorbar": {
              "outlinewidth": 0,
              "ticks": ""
             }
            },
            "type": "scatterternary"
           }
          ],
          "surface": [
           {
            "colorbar": {
             "outlinewidth": 0,
             "ticks": ""
            },
            "colorscale": [
             [
              0,
              "#0d0887"
             ],
             [
              0.1111111111111111,
              "#46039f"
             ],
             [
              0.2222222222222222,
              "#7201a8"
             ],
             [
              0.3333333333333333,
              "#9c179e"
             ],
             [
              0.4444444444444444,
              "#bd3786"
             ],
             [
              0.5555555555555556,
              "#d8576b"
             ],
             [
              0.6666666666666666,
              "#ed7953"
             ],
             [
              0.7777777777777778,
              "#fb9f3a"
             ],
             [
              0.8888888888888888,
              "#fdca26"
             ],
             [
              1,
              "#f0f921"
             ]
            ],
            "type": "surface"
           }
          ],
          "table": [
           {
            "cells": {
             "fill": {
              "color": "#EBF0F8"
             },
             "line": {
              "color": "white"
             }
            },
            "header": {
             "fill": {
              "color": "#C8D4E3"
             },
             "line": {
              "color": "white"
             }
            },
            "type": "table"
           }
          ]
         },
         "layout": {
          "annotationdefaults": {
           "arrowcolor": "#2a3f5f",
           "arrowhead": 0,
           "arrowwidth": 1
          },
          "autotypenumbers": "strict",
          "coloraxis": {
           "colorbar": {
            "outlinewidth": 0,
            "ticks": ""
           }
          },
          "colorscale": {
           "diverging": [
            [
             0,
             "#8e0152"
            ],
            [
             0.1,
             "#c51b7d"
            ],
            [
             0.2,
             "#de77ae"
            ],
            [
             0.3,
             "#f1b6da"
            ],
            [
             0.4,
             "#fde0ef"
            ],
            [
             0.5,
             "#f7f7f7"
            ],
            [
             0.6,
             "#e6f5d0"
            ],
            [
             0.7,
             "#b8e186"
            ],
            [
             0.8,
             "#7fbc41"
            ],
            [
             0.9,
             "#4d9221"
            ],
            [
             1,
             "#276419"
            ]
           ],
           "sequential": [
            [
             0,
             "#0d0887"
            ],
            [
             0.1111111111111111,
             "#46039f"
            ],
            [
             0.2222222222222222,
             "#7201a8"
            ],
            [
             0.3333333333333333,
             "#9c179e"
            ],
            [
             0.4444444444444444,
             "#bd3786"
            ],
            [
             0.5555555555555556,
             "#d8576b"
            ],
            [
             0.6666666666666666,
             "#ed7953"
            ],
            [
             0.7777777777777778,
             "#fb9f3a"
            ],
            [
             0.8888888888888888,
             "#fdca26"
            ],
            [
             1,
             "#f0f921"
            ]
           ],
           "sequentialminus": [
            [
             0,
             "#0d0887"
            ],
            [
             0.1111111111111111,
             "#46039f"
            ],
            [
             0.2222222222222222,
             "#7201a8"
            ],
            [
             0.3333333333333333,
             "#9c179e"
            ],
            [
             0.4444444444444444,
             "#bd3786"
            ],
            [
             0.5555555555555556,
             "#d8576b"
            ],
            [
             0.6666666666666666,
             "#ed7953"
            ],
            [
             0.7777777777777778,
             "#fb9f3a"
            ],
            [
             0.8888888888888888,
             "#fdca26"
            ],
            [
             1,
             "#f0f921"
            ]
           ]
          },
          "colorway": [
           "#636efa",
           "#EF553B",
           "#00cc96",
           "#ab63fa",
           "#FFA15A",
           "#19d3f3",
           "#FF6692",
           "#B6E880",
           "#FF97FF",
           "#FECB52"
          ],
          "font": {
           "color": "#2a3f5f"
          },
          "geo": {
           "bgcolor": "white",
           "lakecolor": "white",
           "landcolor": "#E5ECF6",
           "showlakes": true,
           "showland": true,
           "subunitcolor": "white"
          },
          "hoverlabel": {
           "align": "left"
          },
          "hovermode": "closest",
          "mapbox": {
           "style": "light"
          },
          "paper_bgcolor": "white",
          "plot_bgcolor": "#E5ECF6",
          "polar": {
           "angularaxis": {
            "gridcolor": "white",
            "linecolor": "white",
            "ticks": ""
           },
           "bgcolor": "#E5ECF6",
           "radialaxis": {
            "gridcolor": "white",
            "linecolor": "white",
            "ticks": ""
           }
          },
          "scene": {
           "xaxis": {
            "backgroundcolor": "#E5ECF6",
            "gridcolor": "white",
            "gridwidth": 2,
            "linecolor": "white",
            "showbackground": true,
            "ticks": "",
            "zerolinecolor": "white"
           },
           "yaxis": {
            "backgroundcolor": "#E5ECF6",
            "gridcolor": "white",
            "gridwidth": 2,
            "linecolor": "white",
            "showbackground": true,
            "ticks": "",
            "zerolinecolor": "white"
           },
           "zaxis": {
            "backgroundcolor": "#E5ECF6",
            "gridcolor": "white",
            "gridwidth": 2,
            "linecolor": "white",
            "showbackground": true,
            "ticks": "",
            "zerolinecolor": "white"
           }
          },
          "shapedefaults": {
           "line": {
            "color": "#2a3f5f"
           }
          },
          "ternary": {
           "aaxis": {
            "gridcolor": "white",
            "linecolor": "white",
            "ticks": ""
           },
           "baxis": {
            "gridcolor": "white",
            "linecolor": "white",
            "ticks": ""
           },
           "bgcolor": "#E5ECF6",
           "caxis": {
            "gridcolor": "white",
            "linecolor": "white",
            "ticks": ""
           }
          },
          "title": {
           "x": 0.05
          },
          "xaxis": {
           "automargin": true,
           "gridcolor": "white",
           "linecolor": "white",
           "ticks": "",
           "title": {
            "standoff": 15
           },
           "zerolinecolor": "white",
           "zerolinewidth": 2
          },
          "yaxis": {
           "automargin": true,
           "gridcolor": "white",
           "linecolor": "white",
           "ticks": "",
           "title": {
            "standoff": 15
           },
           "zerolinecolor": "white",
           "zerolinewidth": 2
          }
         }
        },
        "title": {
         "text": "Daily Screen Time by App Category"
        },
        "xaxis": {
         "anchor": "y",
         "domain": [
          0,
          1
         ],
         "tickangle": -45,
         "title": {
          "text": "Date"
         }
        },
        "yaxis": {
         "anchor": "x",
         "domain": [
          0,
          1
         ],
         "title": {
          "text": "Total Screen Time (minutes)"
         }
        }
       }
      }
     },
     "metadata": {},
     "output_type": "display_data"
    }
   ],
   "source": [
    "import plotly.graph_objects as go\n",
    "import plotly.express as px\n",
    "\n",
    "# Reuse the same grouped data\n",
    "category_daily = df.groupby(['date_only', 'category'])['screen_time_min'].sum().reset_index()\n",
    "\n",
    "# Interactive Plotly line chart\n",
    "fig = px.line(\n",
    "    category_daily,\n",
    "    x='date_only',\n",
    "    y='screen_time_min',\n",
    "    color='category',\n",
    "    title='Daily Screen Time by App Category',\n",
    "    labels={'date_only': 'Date', 'screen_time_min': 'Total Screen Time (minutes)', 'category': 'Category'}\n",
    ")\n",
    "\n",
    "fig.update_layout(xaxis_tickangle=-45)\n",
    "fig.show()"
   ]
  },
  {
   "cell_type": "markdown",
   "id": "09a18b6e",
   "metadata": {},
   "source": [
    "Relationship between entertainment vs productivity"
   ]
  },
  {
   "cell_type": "code",
   "execution_count": 20,
   "id": "bddaf4fa",
   "metadata": {},
   "outputs": [],
   "source": [
    "pivot_df = df[df['category'].isin(['Entertainment', 'Productivity'])]\n",
    "pivot_df = pivot_df.groupby(['user_id', 'date_only', 'category'])['screen_time_min'].sum().unstack().reset_index()"
   ]
  },
  {
   "cell_type": "code",
   "execution_count": 21,
   "id": "827558e3",
   "metadata": {},
   "outputs": [
    {
     "data": {
      "image/png": "[encoded data removed]",
      "text/plain": [
       "<Figure size 800x600 with 1 Axes>"
      ]
     },
     "metadata": {},
     "output_type": "display_data"
    }
   ],
   "source": [
    "import matplotlib.pyplot as plt\n",
    "\n",
    "plt.figure(figsize=(8, 6))\n",
    "plt.scatter(pivot_df['Entertainment'], pivot_df['Productivity'], alpha=0.6, color='purple')\n",
    "\n",
    "plt.title('Relationship Between Entertainment and Productivity Screen Time')\n",
    "plt.xlabel('Entertainment Screen Time (minutes)')\n",
    "plt.ylabel('Productivity Screen Time (minutes)')\n",
    "plt.grid(True)\n",
    "plt.tight_layout()\n",
    "plt.show()\n"
   ]
  },
  {
   "cell_type": "markdown",
   "id": "8db445e1",
   "metadata": {},
   "source": [
    "Relationship between Social and Productivity"
   ]
  },
  {
   "cell_type": "code",
   "execution_count": 22,
   "id": "84112a57",
   "metadata": {},
   "outputs": [],
   "source": [
    "selected = df[df['category'].isin(['Social', 'Productivity'])]\n",
    "\n",
    "pivot_df = selected.groupby(['user_id', 'date_only', 'category'])['screen_time_min'].sum().unstack().reset_index()\n",
    "\n",
    "pivot_df = pivot_df.dropna()\n"
   ]
  },
  {
   "cell_type": "code",
   "execution_count": 23,
   "id": "6ff2eb33",
   "metadata": {},
   "outputs": [
    {
     "data": {
      "image/png": "[encoded data removed]",
      "text/plain": [
       "<Figure size 800x600 with 1 Axes>"
      ]
     },
     "metadata": {},
     "output_type": "display_data"
    }
   ],
   "source": [
    "plt.figure(figsize=(8, 6))\n",
    "\n",
    "# X-axis: Social Media time, Y-axis: Productivity time\n",
    "plt.scatter(pivot_df['Social'], pivot_df['Productivity'], alpha=0.6, color='teal')\n",
    "\n",
    "plt.title('Relationship Between Social Media and Productivity Screen Time')\n",
    "plt.xlabel('Social Media Screen Time (minutes)')\n",
    "plt.ylabel('Productivity Screen Time (minutes)')\n",
    "plt.grid(True)\n",
    "plt.tight_layout()\n",
    "plt.show()\n"
   ]
  },
  {
   "cell_type": "markdown",
   "id": "ae10f839",
   "metadata": {},
   "source": [
    "### B. Identify peak usage times across different apps\n",
    "B. Identify peak usage times across different apps\n",
    "Create a heatmap or bar plot of average screen time:\n",
    "\n",
    "* By hour of day (x-axis) and app category/app name (y-axis).\n",
    "\n",
    "* Or use a lineplot showing average usage by hour, separated by app.\n",
    "\n",
    "✅ Insights: Are evenings peak time? Do different apps peak at different times?\n",
    "What time is YouTube or Instagram most used?\n",
    "\n",
    "Which apps are used late at night?\n",
    "\n",
    "Are productivity apps used more during working hours?"
   ]
  },
  {
   "cell_type": "code",
   "execution_count": 24,
   "id": "2e34ba8a",
   "metadata": {},
   "outputs": [],
   "source": [
    "# heatmap to see what time of the day each app is used the most\n",
    "\n",
    "# group by app_name and time only then sum them up with screen time\n",
    "heatmap_data = df.groupby(['app_name', 'time_only'])['screen_time_min'].sum().reset_index()\n"
   ]
  },
  {
   "cell_type": "code",
   "execution_count": 26,
   "id": "6cdd0451",
   "metadata": {},
   "outputs": [],
   "source": [
    "# Pivot data\n",
    "heatmap_pivot = heatmap_data.pivot(index='app_name', columns='time_only', values='screen_time_min').fillna(0)"
   ]
  },
  {
   "cell_type": "code",
   "execution_count": 27,
   "id": "7f94253e",
   "metadata": {},
   "outputs": [
    {
     "data": {
      "image/png": "[encoded data removed]",
      "text/plain": [
       "<Figure size 1400x800 with 2 Axes>"
      ]
     },
     "metadata": {},
     "output_type": "display_data"
    }
   ],
   "source": [
    "# using seaborn\n",
    "plt.figure(figsize=(14, 8))\n",
    "sns.heatmap(heatmap_pivot, cmap='YlGnBu')\n",
    "\n",
    "plt.title('Heatmap of App Usage by Hour of Day')\n",
    "plt.xlabel('Hour of Day')\n",
    "plt.ylabel('App Name')\n",
    "plt.tight_layout()\n",
    "plt.show()\n"
   ]
  },
  {
   "cell_type": "code",
   "execution_count": 34,
   "id": "ff10a6ef",
   "metadata": {},
   "outputs": [
    {
     "data": {
      "image/png": "[encoded data removed]",
      "text/plain": [
       "<Figure size 1600x800 with 1 Axes>"
      ]
     },
     "metadata": {},
     "output_type": "display_data"
    }
   ],
   "source": [
    "avg_screen_time = df.groupby(['app_name', 'time_only'])['screen_time_min'].mean().reset_index()\n",
    "\n",
    "plt.figure(figsize=(16, 8))\n",
    "sns.barplot(\n",
    "    data=avg_screen_time,\n",
    "    x='time_only',\n",
    "    y='screen_time_min',\n",
    "    hue='app_name'\n",
    ")\n",
    "\n",
    "plt.title('Average Screen Time by Hour of Day and App Name')\n",
    "plt.xlabel('Hour of Day')\n",
    "plt.ylabel('Avg. Screen Time (minutes)')\n",
    "plt.legend(title='App Name', bbox_to_anchor=(1.05, 1), loc='upper left')\n",
    "plt.tight_layout()\n",
    "plt.show()\n"
   ]
  },
  {
   "cell_type": "code",
   "execution_count": 38,
   "id": "a6d98002",
   "metadata": {},
   "outputs": [
    {
     "data": {
      "text/html": [
       "<div>\n",
       "<style scoped>\n",
       "    .dataframe tbody tr th:only-of-type {\n",
       "        vertical-align: middle;\n",
       "    }\n",
       "\n",
       "    .dataframe tbody tr th {\n",
       "        vertical-align: top;\n",
       "    }\n",
       "\n",
       "    .dataframe thead th {\n",
       "        text-align: right;\n",
       "    }\n",
       "</style>\n",
       "<table border=\"1\" class=\"dataframe\">\n",
       "  <thead>\n",
       "    <tr style=\"text-align: right;\">\n",
       "      <th></th>\n",
       "      <th>app_name</th>\n",
       "      <th>time_only</th>\n",
       "      <th>screen_time_min</th>\n",
       "    </tr>\n",
       "  </thead>\n",
       "  <tbody>\n",
       "    <tr>\n",
       "      <th>0</th>\n",
       "      <td>Camera</td>\n",
       "      <td>00:00:00</td>\n",
       "      <td>24.53</td>\n",
       "    </tr>\n",
       "    <tr>\n",
       "      <th>1</th>\n",
       "      <td>Camera</td>\n",
       "      <td>00:01:26.428809</td>\n",
       "      <td>12.72</td>\n",
       "    </tr>\n",
       "    <tr>\n",
       "      <th>2</th>\n",
       "      <td>Camera</td>\n",
       "      <td>00:05:45.715238</td>\n",
       "      <td>20.25</td>\n",
       "    </tr>\n",
       "    <tr>\n",
       "      <th>3</th>\n",
       "      <td>Camera</td>\n",
       "      <td>00:08:38.572857</td>\n",
       "      <td>16.34</td>\n",
       "    </tr>\n",
       "    <tr>\n",
       "      <th>4</th>\n",
       "      <td>Camera</td>\n",
       "      <td>00:22:05.241747</td>\n",
       "      <td>18.87</td>\n",
       "    </tr>\n",
       "    <tr>\n",
       "      <th>...</th>\n",
       "      <td>...</td>\n",
       "      <td>...</td>\n",
       "      <td>...</td>\n",
       "    </tr>\n",
       "    <tr>\n",
       "      <th>2995</th>\n",
       "      <td>YouTube</td>\n",
       "      <td>22:49:53.797932</td>\n",
       "      <td>14.13</td>\n",
       "    </tr>\n",
       "    <tr>\n",
       "      <th>2996</th>\n",
       "      <td>YouTube</td>\n",
       "      <td>22:58:32.370790</td>\n",
       "      <td>4.45</td>\n",
       "    </tr>\n",
       "    <tr>\n",
       "      <th>2997</th>\n",
       "      <td>YouTube</td>\n",
       "      <td>23:08:37.372457</td>\n",
       "      <td>48.20</td>\n",
       "    </tr>\n",
       "    <tr>\n",
       "      <th>2998</th>\n",
       "      <td>YouTube</td>\n",
       "      <td>23:35:59.519839</td>\n",
       "      <td>0.71</td>\n",
       "    </tr>\n",
       "    <tr>\n",
       "      <th>2999</th>\n",
       "      <td>YouTube</td>\n",
       "      <td>23:39:21.187062</td>\n",
       "      <td>36.27</td>\n",
       "    </tr>\n",
       "  </tbody>\n",
       "</table>\n",
       "<p>3000 rows × 3 columns</p>\n",
       "</div>"
      ],
      "text/plain": [
       "     app_name        time_only  screen_time_min\n",
       "0      Camera         00:00:00            24.53\n",
       "1      Camera  00:01:26.428809            12.72\n",
       "2      Camera  00:05:45.715238            20.25\n",
       "3      Camera  00:08:38.572857            16.34\n",
       "4      Camera  00:22:05.241747            18.87\n",
       "...       ...              ...              ...\n",
       "2995  YouTube  22:49:53.797932            14.13\n",
       "2996  YouTube  22:58:32.370790             4.45\n",
       "2997  YouTube  23:08:37.372457            48.20\n",
       "2998  YouTube  23:35:59.519839             0.71\n",
       "2999  YouTube  23:39:21.187062            36.27\n",
       "\n",
       "[3000 rows x 3 columns]"
      ]
     },
     "execution_count": 38,
     "metadata": {},
     "output_type": "execute_result"
    }
   ],
   "source": [
    "avg_usage = df.groupby(['app_name', 'time_only'])['screen_time_min'].mean().reset_index()\n",
    "avg_usage\n"
   ]
  },
  {
   "cell_type": "code",
   "execution_count": 42,
   "id": "a5d3b3f2",
   "metadata": {},
   "outputs": [
    {
     "name": "stdout",
     "output_type": "stream",
     "text": [
      "      app_name  screen_time_min        time_only\n",
      "0       Camera            24.53         00:00:00\n",
      "1       Chrome            19.78  00:43:41.673891\n",
      "2      Spotify            32.03  01:27:23.347782\n",
      "3  Google Maps            19.10  02:11:05.021673\n",
      "4    Instagram            25.19  02:54:46.695565\n",
      "user_id                      int64\n",
      "date                datetime64[ns]\n",
      "app_name                    object\n",
      "category                    object\n",
      "screen_time_min            float64\n",
      "launches                     int64\n",
      "interactions                 int64\n",
      "is_productive                 bool\n",
      "youtube_views              float64\n",
      "youtube_likes              float64\n",
      "youtube_comments           float64\n",
      "date_only                   object\n",
      "time_only                   object\n",
      "dtype: object\n"
     ]
    }
   ],
   "source": [
    "print(df[['app_name', 'screen_time_min', 'time_only']].head())\n",
    "print(df.dtypes)"
   ]
  },
  {
   "cell_type": "code",
   "execution_count": 41,
   "id": "8d3c6001",
   "metadata": {},
   "outputs": [
    {
     "ename": "TypeError",
     "evalue": "Invalid object type at position 0",
     "output_type": "error",
     "traceback": [
      "\u001b[31m---------------------------------------------------------------------------\u001b[39m",
      "\u001b[31mTypeError\u001b[39m                                 Traceback (most recent call last)",
      "\u001b[36mFile \u001b[39m\u001b[32mlib.pyx:2391\u001b[39m, in \u001b[36mpandas._libs.lib.maybe_convert_numeric\u001b[39m\u001b[34m()\u001b[39m\n",
      "\u001b[31mTypeError\u001b[39m: Invalid object type",
      "\nDuring handling of the above exception, another exception occurred:\n",
      "\u001b[31mTypeError\u001b[39m                                 Traceback (most recent call last)",
      "\u001b[36mCell\u001b[39m\u001b[36m \u001b[39m\u001b[32mIn[41]\u001b[39m\u001b[32m, line 2\u001b[39m\n\u001b[32m      1\u001b[39m plt.figure(figsize=(\u001b[32m16\u001b[39m, \u001b[32m8\u001b[39m))\n\u001b[32m----> \u001b[39m\u001b[32m2\u001b[39m \u001b[43msns\u001b[49m\u001b[43m.\u001b[49m\u001b[43mlineplot\u001b[49m\u001b[43m(\u001b[49m\n\u001b[32m      3\u001b[39m \u001b[43m    \u001b[49m\u001b[43mdata\u001b[49m\u001b[43m=\u001b[49m\u001b[43mavg_usage\u001b[49m\u001b[43m,\u001b[49m\n\u001b[32m      4\u001b[39m \u001b[43m    \u001b[49m\u001b[43mx\u001b[49m\u001b[43m=\u001b[49m\u001b[33;43m'\u001b[39;49m\u001b[33;43mtime_only\u001b[39;49m\u001b[33;43m'\u001b[39;49m\u001b[43m,\u001b[49m\n\u001b[32m      5\u001b[39m \u001b[43m    \u001b[49m\u001b[43my\u001b[49m\u001b[43m=\u001b[49m\u001b[33;43m'\u001b[39;49m\u001b[33;43mscreen_time_min\u001b[39;49m\u001b[33;43m'\u001b[39;49m\u001b[43m,\u001b[49m\n\u001b[32m      6\u001b[39m \u001b[43m    \u001b[49m\u001b[43mhue\u001b[49m\u001b[43m=\u001b[49m\u001b[33;43m'\u001b[39;49m\u001b[33;43mapp_name\u001b[39;49m\u001b[33;43m'\u001b[39;49m\u001b[43m,\u001b[49m\n\u001b[32m      7\u001b[39m \u001b[43m    \u001b[49m\u001b[43mmarker\u001b[49m\u001b[43m=\u001b[49m\u001b[33;43m'\u001b[39;49m\u001b[33;43mo\u001b[39;49m\u001b[33;43m'\u001b[39;49m\u001b[43m \u001b[49m\n\u001b[32m      8\u001b[39m \u001b[43m)\u001b[49m\n\u001b[32m     10\u001b[39m plt.title(\u001b[33m'\u001b[39m\u001b[33mAverage Screen Time by Hour of Day (Per App)\u001b[39m\u001b[33m'\u001b[39m)\n\u001b[32m     11\u001b[39m plt.xlabel(\u001b[33m'\u001b[39m\u001b[33mHour of Day\u001b[39m\u001b[33m'\u001b[39m)\n",
      "\u001b[36mFile \u001b[39m\u001b[32mc:\\Users\\27787\\AppData\\Local\\Programs\\Python\\Python312\\Lib\\site-packages\\seaborn\\relational.py:515\u001b[39m, in \u001b[36mlineplot\u001b[39m\u001b[34m(data, x, y, hue, size, style, units, weights, palette, hue_order, hue_norm, sizes, size_order, size_norm, dashes, markers, style_order, estimator, errorbar, n_boot, seed, orient, sort, err_style, err_kws, legend, ci, ax, **kwargs)\u001b[39m\n\u001b[32m    512\u001b[39m color = kwargs.pop(\u001b[33m\"\u001b[39m\u001b[33mcolor\u001b[39m\u001b[33m\"\u001b[39m, kwargs.pop(\u001b[33m\"\u001b[39m\u001b[33mc\u001b[39m\u001b[33m\"\u001b[39m, \u001b[38;5;28;01mNone\u001b[39;00m))\n\u001b[32m    513\u001b[39m kwargs[\u001b[33m\"\u001b[39m\u001b[33mcolor\u001b[39m\u001b[33m\"\u001b[39m] = _default_color(ax.plot, hue, color, kwargs)\n\u001b[32m--> \u001b[39m\u001b[32m515\u001b[39m \u001b[43mp\u001b[49m\u001b[43m.\u001b[49m\u001b[43mplot\u001b[49m\u001b[43m(\u001b[49m\u001b[43max\u001b[49m\u001b[43m,\u001b[49m\u001b[43m \u001b[49m\u001b[43mkwargs\u001b[49m\u001b[43m)\u001b[49m\n\u001b[32m    516\u001b[39m \u001b[38;5;28;01mreturn\u001b[39;00m ax\n",
      "\u001b[36mFile \u001b[39m\u001b[32mc:\\Users\\27787\\AppData\\Local\\Programs\\Python\\Python312\\Lib\\site-packages\\seaborn\\relational.py:276\u001b[39m, in \u001b[36m_LinePlotter.plot\u001b[39m\u001b[34m(self, ax, kws)\u001b[39m\n\u001b[32m    268\u001b[39m \u001b[38;5;66;03m# TODO How to handle NA? We don't want NA to propagate through to the\u001b[39;00m\n\u001b[32m    269\u001b[39m \u001b[38;5;66;03m# estimate/CI when some values are present, but we would also like\u001b[39;00m\n\u001b[32m    270\u001b[39m \u001b[38;5;66;03m# matplotlib to show \"gaps\" in the line when all values are missing.\u001b[39;00m\n\u001b[32m   (...)\u001b[39m\u001b[32m    273\u001b[39m \n\u001b[32m    274\u001b[39m \u001b[38;5;66;03m# Loop over the semantic subsets and add to the plot\u001b[39;00m\n\u001b[32m    275\u001b[39m grouping_vars = \u001b[33m\"\u001b[39m\u001b[33mhue\u001b[39m\u001b[33m\"\u001b[39m, \u001b[33m\"\u001b[39m\u001b[33msize\u001b[39m\u001b[33m\"\u001b[39m, \u001b[33m\"\u001b[39m\u001b[33mstyle\u001b[39m\u001b[33m\"\u001b[39m\n\u001b[32m--> \u001b[39m\u001b[32m276\u001b[39m \u001b[43m\u001b[49m\u001b[38;5;28;43;01mfor\u001b[39;49;00m\u001b[43m \u001b[49m\u001b[43msub_vars\u001b[49m\u001b[43m,\u001b[49m\u001b[43m \u001b[49m\u001b[43msub_data\u001b[49m\u001b[43m \u001b[49m\u001b[38;5;129;43;01min\u001b[39;49;00m\u001b[43m \u001b[49m\u001b[38;5;28;43mself\u001b[39;49m\u001b[43m.\u001b[49m\u001b[43miter_data\u001b[49m\u001b[43m(\u001b[49m\u001b[43mgrouping_vars\u001b[49m\u001b[43m,\u001b[49m\u001b[43m \u001b[49m\u001b[43mfrom_comp_data\u001b[49m\u001b[43m=\u001b[49m\u001b[38;5;28;43;01mTrue\u001b[39;49;00m\u001b[43m)\u001b[49m\u001b[43m:\u001b[49m\n\u001b[32m    278\u001b[39m \u001b[43m    \u001b[49m\u001b[38;5;28;43;01mif\u001b[39;49;00m\u001b[43m \u001b[49m\u001b[38;5;28;43mself\u001b[39;49m\u001b[43m.\u001b[49m\u001b[43msort\u001b[49m\u001b[43m:\u001b[49m\n\u001b[32m    279\u001b[39m \u001b[43m        \u001b[49m\u001b[43msort_vars\u001b[49m\u001b[43m \u001b[49m\u001b[43m=\u001b[49m\u001b[43m \u001b[49m\u001b[43m[\u001b[49m\u001b[33;43m\"\u001b[39;49m\u001b[33;43munits\u001b[39;49m\u001b[33;43m\"\u001b[39;49m\u001b[43m,\u001b[49m\u001b[43m \u001b[49m\u001b[43morient\u001b[49m\u001b[43m,\u001b[49m\u001b[43m \u001b[49m\u001b[43mother\u001b[49m\u001b[43m]\u001b[49m\n",
      "\u001b[36mFile \u001b[39m\u001b[32mc:\\Users\\27787\\AppData\\Local\\Programs\\Python\\Python312\\Lib\\site-packages\\seaborn\\_base.py:902\u001b[39m, in \u001b[36mVectorPlotter.iter_data\u001b[39m\u001b[34m(self, grouping_vars, reverse, from_comp_data, by_facet, allow_empty, dropna)\u001b[39m\n\u001b[32m    899\u001b[39m grouping_vars = [var \u001b[38;5;28;01mfor\u001b[39;00m var \u001b[38;5;129;01min\u001b[39;00m grouping_vars \u001b[38;5;28;01mif\u001b[39;00m var \u001b[38;5;129;01min\u001b[39;00m \u001b[38;5;28mself\u001b[39m.variables]\n\u001b[32m    901\u001b[39m \u001b[38;5;28;01mif\u001b[39;00m from_comp_data:\n\u001b[32m--> \u001b[39m\u001b[32m902\u001b[39m     data = \u001b[38;5;28;43mself\u001b[39;49m\u001b[43m.\u001b[49m\u001b[43mcomp_data\u001b[49m\n\u001b[32m    903\u001b[39m \u001b[38;5;28;01melse\u001b[39;00m:\n\u001b[32m    904\u001b[39m     data = \u001b[38;5;28mself\u001b[39m.plot_data\n",
      "\u001b[36mFile \u001b[39m\u001b[32mc:\\Users\\27787\\AppData\\Local\\Programs\\Python\\Python312\\Lib\\site-packages\\seaborn\\_base.py:1000\u001b[39m, in \u001b[36mVectorPlotter.comp_data\u001b[39m\u001b[34m(self)\u001b[39m\n\u001b[32m    995\u001b[39m \u001b[38;5;28;01mif\u001b[39;00m var \u001b[38;5;129;01min\u001b[39;00m \u001b[38;5;28mself\u001b[39m.var_levels:\n\u001b[32m    996\u001b[39m     \u001b[38;5;66;03m# TODO this should happen in some centralized location\u001b[39;00m\n\u001b[32m    997\u001b[39m     \u001b[38;5;66;03m# it is similar to GH2419, but more complicated because\u001b[39;00m\n\u001b[32m    998\u001b[39m     \u001b[38;5;66;03m# supporting `order` in categorical plots is tricky\u001b[39;00m\n\u001b[32m    999\u001b[39m     orig = orig[orig.isin(\u001b[38;5;28mself\u001b[39m.var_levels[var])]\n\u001b[32m-> \u001b[39m\u001b[32m1000\u001b[39m comp = \u001b[43mpd\u001b[49m\u001b[43m.\u001b[49m\u001b[43mto_numeric\u001b[49m\u001b[43m(\u001b[49m\u001b[43mconverter\u001b[49m\u001b[43m.\u001b[49m\u001b[43mconvert_units\u001b[49m\u001b[43m(\u001b[49m\u001b[43morig\u001b[49m\u001b[43m)\u001b[49m\u001b[43m)\u001b[49m.astype(\u001b[38;5;28mfloat\u001b[39m)\n\u001b[32m   1001\u001b[39m transform = converter.get_transform().transform\n\u001b[32m   1002\u001b[39m parts.append(pd.Series(transform(comp), orig.index, name=orig.name))\n",
      "\u001b[36mFile \u001b[39m\u001b[32mc:\\Users\\27787\\AppData\\Local\\Programs\\Python\\Python312\\Lib\\site-packages\\pandas\\core\\tools\\numeric.py:232\u001b[39m, in \u001b[36mto_numeric\u001b[39m\u001b[34m(arg, errors, downcast, dtype_backend)\u001b[39m\n\u001b[32m    230\u001b[39m coerce_numeric = errors \u001b[38;5;129;01mnot\u001b[39;00m \u001b[38;5;129;01min\u001b[39;00m (\u001b[33m\"\u001b[39m\u001b[33mignore\u001b[39m\u001b[33m\"\u001b[39m, \u001b[33m\"\u001b[39m\u001b[33mraise\u001b[39m\u001b[33m\"\u001b[39m)\n\u001b[32m    231\u001b[39m \u001b[38;5;28;01mtry\u001b[39;00m:\n\u001b[32m--> \u001b[39m\u001b[32m232\u001b[39m     values, new_mask = \u001b[43mlib\u001b[49m\u001b[43m.\u001b[49m\u001b[43mmaybe_convert_numeric\u001b[49m\u001b[43m(\u001b[49m\u001b[43m  \u001b[49m\u001b[38;5;66;43;03m# type: ignore[call-overload]\u001b[39;49;00m\n\u001b[32m    233\u001b[39m \u001b[43m        \u001b[49m\u001b[43mvalues\u001b[49m\u001b[43m,\u001b[49m\n\u001b[32m    234\u001b[39m \u001b[43m        \u001b[49m\u001b[38;5;28;43mset\u001b[39;49m\u001b[43m(\u001b[49m\u001b[43m)\u001b[49m\u001b[43m,\u001b[49m\n\u001b[32m    235\u001b[39m \u001b[43m        \u001b[49m\u001b[43mcoerce_numeric\u001b[49m\u001b[43m=\u001b[49m\u001b[43mcoerce_numeric\u001b[49m\u001b[43m,\u001b[49m\n\u001b[32m    236\u001b[39m \u001b[43m        \u001b[49m\u001b[43mconvert_to_masked_nullable\u001b[49m\u001b[43m=\u001b[49m\u001b[43mdtype_backend\u001b[49m\u001b[43m \u001b[49m\u001b[38;5;129;43;01mis\u001b[39;49;00m\u001b[43m \u001b[49m\u001b[38;5;129;43;01mnot\u001b[39;49;00m\u001b[43m \u001b[49m\u001b[43mlib\u001b[49m\u001b[43m.\u001b[49m\u001b[43mno_default\u001b[49m\n\u001b[32m    237\u001b[39m \u001b[43m        \u001b[49m\u001b[38;5;129;43;01mor\u001b[39;49;00m\u001b[43m \u001b[49m\u001b[38;5;28;43misinstance\u001b[39;49m\u001b[43m(\u001b[49m\u001b[43mvalues_dtype\u001b[49m\u001b[43m,\u001b[49m\u001b[43m \u001b[49m\u001b[43mStringDtype\u001b[49m\u001b[43m)\u001b[49m\n\u001b[32m    238\u001b[39m \u001b[43m        \u001b[49m\u001b[38;5;129;43;01mand\u001b[39;49;00m\u001b[43m \u001b[49m\u001b[38;5;129;43;01mnot\u001b[39;49;00m\u001b[43m \u001b[49m\u001b[43mvalues_dtype\u001b[49m\u001b[43m.\u001b[49m\u001b[43mstorage\u001b[49m\u001b[43m \u001b[49m\u001b[43m==\u001b[49m\u001b[43m \u001b[49m\u001b[33;43m\"\u001b[39;49m\u001b[33;43mpyarrow_numpy\u001b[39;49m\u001b[33;43m\"\u001b[39;49m\u001b[43m,\u001b[49m\n\u001b[32m    239\u001b[39m \u001b[43m    \u001b[49m\u001b[43m)\u001b[49m\n\u001b[32m    240\u001b[39m \u001b[38;5;28;01mexcept\u001b[39;00m (\u001b[38;5;167;01mValueError\u001b[39;00m, \u001b[38;5;167;01mTypeError\u001b[39;00m):\n\u001b[32m    241\u001b[39m     \u001b[38;5;28;01mif\u001b[39;00m errors == \u001b[33m\"\u001b[39m\u001b[33mraise\u001b[39m\u001b[33m\"\u001b[39m:\n",
      "\u001b[36mFile \u001b[39m\u001b[32mlib.pyx:2433\u001b[39m, in \u001b[36mpandas._libs.lib.maybe_convert_numeric\u001b[39m\u001b[34m()\u001b[39m\n",
      "\u001b[31mTypeError\u001b[39m: Invalid object type at position 0"
     ]
    },
    {
     "data": {
      "image/png": "[encoded data removed]",
      "text/plain": [
       "<Figure size 1600x800 with 1 Axes>"
      ]
     },
     "metadata": {},
     "output_type": "display_data"
    }
   ],
   "source": [
    "plt.figure(figsize=(16, 8))\n",
    "sns.lineplot(\n",
    "    data=avg_usage,\n",
    "    x='time_only',\n",
    "    y='screen_time_min',\n",
    "    hue='app_name',\n",
    "    marker='o' \n",
    ")\n",
    "\n",
    "plt.title('Average Screen Time by Hour of Day (Per App)')\n",
    "plt.xlabel('Hour of Day')\n",
    "plt.ylabel('Avg. Screen Time (minutes)')\n",
    "plt.xticks(range(0, 24))  # Ensure all hours are shown\n",
    "plt.legend(title='App Name', bbox_to_anchor=(1.05, 1), loc='upper left')\n",
    "plt.tight_layout()\n",
    "plt.show()"
   ]
  },
  {
   "cell_type": "code",
   "execution_count": null,
   "id": "10a7dd51",
   "metadata": {},
   "outputs": [],
   "source": []
  },
  {
   "cell_type": "markdown",
   "id": "bb6650d6",
   "metadata": {},
   "source": [
    "### C. Analyze correlation between productivity and entertainment use\n",
    "Aggregate total daily screen time by category → get daily totals per user.\n",
    "\n",
    "Use scatter plot (Seaborn or Plotly):\n",
    "\n",
    "X-axis: Productivity screen time\n",
    "\n",
    "Y-axis: Entertainment screen time\n",
    "\n",
    "Color: Maybe day of week or other factor\n",
    "\n",
    "Compute correlation coefficient using .corr().\n",
    "\n",
    "✅ Insights: Does more entertainment time correlate with lower productivity time?"
   ]
  },
  {
   "cell_type": "code",
   "execution_count": null,
   "id": "3bd053a1",
   "metadata": {},
   "outputs": [],
   "source": []
  },
  {
   "cell_type": "markdown",
   "id": "2d2eec00",
   "metadata": {},
   "source": [
    "### D. Explore YouTube user engagement metrics\n",
    "Focus on rows related to YouTube; check available metrics (views, likes, comments, watch time).\n",
    "\n",
    "Analyze:\n",
    "\n",
    "Correlation between watch time and likes, views, comments.\n",
    "\n",
    "Compute views per minute watched → plot this vs other metrics.\n",
    "\n",
    "Use scatter plots, bar plots for visualizing engagement patterns.\n",
    "\n",
    "✅ Insights: Do longer watch times drive more likes? Which videos have highest views per watch time?"
   ]
  },
  {
   "cell_type": "markdown",
   "id": "7a8e1dc6",
   "metadata": {},
   "source": []
  }
 ],
 "metadata": {
  "kernelspec": {
   "display_name": "Python 3",
   "language": "python",
   "name": "python3"
  },
  "language_info": {
   "codemirror_mode": {
    "name": "ipython",
    "version": 3
   },
   "file_extension": ".py",
   "mimetype": "text/x-python",
   "name": "python",
   "nbconvert_exporter": "python",
   "pygments_lexer": "ipython3",
   "version": "3.12.2"
  }
 },
 "nbformat": 4,
 "nbformat_minor": 5
}
